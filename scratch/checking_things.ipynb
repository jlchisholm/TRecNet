{
 "cells": [
  {
   "cell_type": "code",
   "execution_count": 28,
   "metadata": {},
   "outputs": [],
   "source": [
    "import uproot\n",
    "import numpy as np\n",
    "import pandas as pd\n",
    "import awkward as ak\n",
    "import vector\n",
    "import matplotlib\n",
    "import matplotlib.pyplot as plt\n",
    "import itertools\n",
    "import json\n",
    "import h5py\n",
    "import sys\n",
    "sys.path.append('../')\n",
    "from Plotter import *\n",
    "from sigfig import round\n"
   ]
  },
  {
   "cell_type": "code",
   "execution_count": 2,
   "metadata": {},
   "outputs": [],
   "source": [
    "plotting_info = json.load(open('../plotting_info.json'))\n",
    "model_specs = plotting_info['model_specs']\n",
    "plot_specs = plotting_info['plot_specs']\n",
    "par_specs = plotting_info['par_specs']\n",
    "\n",
    "f_test = h5py.File(plotting_info['test_filename'],'r')\n",
    "eventnumbers = np.array(f_test.get('eventNumber'))\n",
    "total_test_events = len(np.array(f_test.get('eventNumber')))\n",
    "f_test.close()"
   ]
  },
  {
   "cell_type": "code",
   "execution_count": 3,
   "metadata": {},
   "outputs": [
    {
     "name": "stdout",
     "output_type": "stream",
     "text": [
      "Preparing to load results for the following models:  ['TRecNet', 'TRecNet+ttbar', 'TRecNet+ttbar+JetPretrain', 'KLFitter6', 'PseudoTop', 'Chi2']\n",
      "Preparing to load systematics for the following models:  ['TRecNet', 'TRecNet+ttbar', 'TRecNet+ttbar+JetPretrain', 'KLFitter6', 'PseudoTop', 'Chi2']\n"
     ]
    }
   ],
   "source": [
    "def unpack_observables(obs_specs):\n",
    "    \"\"\"\n",
    "    Unpacks the observable definitions from the given dictionary (likely from a JSON file).\n",
    "\n",
    "        Parameters:\n",
    "            obs_specs (dict): Observable specifications, including name of the observables, alternative names, labels, units, and starting point, stopping point, and step size for the bins.\n",
    "\n",
    "        Returns:\n",
    "            observables (list of observable objects): Observables\n",
    "    \"\"\"\n",
    "\n",
    "    # Create a list to store the observables in\n",
    "    observables = []\n",
    "\n",
    "    # For each observable specified ...\n",
    "    for obs in obs_specs:\n",
    "\n",
    "        # Get the ticks for the bins\n",
    "        ticks = np.arange(obs['start'],obs['stop'],obs['step'])\n",
    "\n",
    "        # Create the observable object and append it to the list\n",
    "        observables.append(Observable(obs['name'],obs['label'],ticks,unit=obs['unit'],res=obs['res'],alt_names=obs['alt_names']))\n",
    "    \n",
    "    return observables\n",
    "\n",
    "\n",
    "\n",
    "def unpack_particles(par_specs):\n",
    "    \"\"\"\n",
    "    Unpacks the particle definitions from the given dictionary (likely from a JSON file).\n",
    "\n",
    "        Parameters:\n",
    "            par_specs (dict): Particle specifications, including name of the particles, alternative names, labels, and observables\n",
    "\n",
    "        Returns:\n",
    "            particles (list of particle objects): Particles\n",
    "    \"\"\"\n",
    "\n",
    "    # Create a list to store the particles in\n",
    "    particles = []\n",
    "\n",
    "    # For each particle specified ...\n",
    "    for par, specs in par_specs.items():\n",
    "\n",
    "        # Get the observables for that particle\n",
    "        observables = unpack_observables(specs['observables'])\n",
    "\n",
    "        # Create the particle object and append it to the list\n",
    "        particles.append(Particle(par,specs['label'],observables,alt_names=specs['alt_names']))\n",
    "\n",
    "    return particles\n",
    "\n",
    "\n",
    "\n",
    "def Get_List_Of_Things_To_Load(plotting_instr):\n",
    "    \"\"\"\n",
    "    Gets lists of the models and systematics we'll need to load to make the desired plots.\n",
    "\n",
    "        Parameters:\n",
    "            plotting_instr (dict): Dictionary containing the types of plots we want to make and their specifications (from the JSON file).\n",
    "\n",
    "        Returns:\n",
    "            models_to_load (list of str): Names of the models we'll need data from.\n",
    "            sys_to_load (list of str): Names of the models we'll need systematics from.\n",
    "    \"\"\"\n",
    "\n",
    "    models_to_load = []\n",
    "    sys_to_load = []\n",
    "    for plot_type, instr in plotting_instr.items():\n",
    "        if plot_type=='TruthReco':\n",
    "            for model_name, model_instr in instr['models'].items():\n",
    "                if model_instr['plot']:\n",
    "                    models_to_load.append(model_name) if model_name not in models_to_load else models_to_load\n",
    "                if model_instr['include_systematics']:\n",
    "                    sys_to_load.append(model_name) if model_name not in sys_to_load else sys_to_load\n",
    "        elif plot_type=='CM':\n",
    "            for model_name, model_instr in instr['models'].items():\n",
    "                if model_instr['plot']:\n",
    "                    models_to_load.append(model_name) if model_name not in models_to_load else models_to_load\n",
    "        elif plot_type=='Sys':\n",
    "            for model_name, plot_model in instr['include_model'].items():\n",
    "                if plot_model:\n",
    "                    models_to_load.append(model_name) if model_name not in models_to_load else models_to_load\n",
    "                    sys_to_load.append(model_name) if model_name not in sys_to_load else sys_to_load\n",
    "        else:\n",
    "            for model_name, plot_model in instr['include_model'].items():\n",
    "                if plot_model:\n",
    "                    models_to_load.append(model_name) if model_name not in models_to_load else models_to_load\n",
    "\n",
    "    print('Preparing to load results for the following models: ',models_to_load)\n",
    "    print('Preparing to load systematics for the following models: ',sys_to_load)    \n",
    "\n",
    "    return models_to_load, sys_to_load\n",
    "\n",
    "particles = unpack_particles(par_specs)\n",
    "plotting_instr = {}\n",
    "for plot, specs in plot_specs.items():\n",
    "    if specs['make_plots']:\n",
    "        plotting_instr[plot] = plot_specs[plot]\n",
    "models_to_load,sys_to_load = Get_List_Of_Things_To_Load(plotting_instr)"
   ]
  },
  {
   "cell_type": "code",
   "execution_count": 4,
   "metadata": {},
   "outputs": [],
   "source": [
    "def readInData(reco_method,filename,eventnumbers):\n",
    "    \"\"\"\n",
    "    Reads data into a dataframe from a file, and removes events that are not part of the test dataset (if list of test event numbers is given).\n",
    "\n",
    "        Parameters:\n",
    "            reco_method (str): Name of the reconstruction model (e.g.'KLFitter', 'TRecNet', etc.)\n",
    "            filename (str): Name, including path, of root file to read data from.\n",
    "            eventnumbers (list): Event numbers for the test dataset.\n",
    "\n",
    "        Returns:\n",
    "            df (pd.DataFrame): Dataframe full of data from the given file.\n",
    "    \"\"\"\n",
    "\n",
    "    print('Reading in data for '+reco_method+' ...')\n",
    "\n",
    "    # Open root file and its trees\n",
    "    f = uproot.open(filename)\n",
    "\n",
    "    # For TRecNet-based models ...\n",
    "    if 'TRecNet' in reco_method and 'sys' not in reco_method:\n",
    "\n",
    "        # Load the truth and reco data\n",
    "        truth_arr = f['parton'].arrays()\n",
    "        reco_arr = f['reco'].arrays()\n",
    "\n",
    "        # Create dataframe with truth and reco data, as well as event numbers\n",
    "        truth_df = ak.to_pandas(truth_arr)\n",
    "        truth_df = truth_df.add_prefix('truth_')\n",
    "        reco_df = ak.to_pandas(reco_arr)\n",
    "        reco_df = reco_df.add_prefix('reco_')\n",
    "        df = pd.concat([truth_df,reco_df], axis=1)\n",
    "        df['eventNumber'] = truth_arr['eventNumber']\n",
    "\n",
    "    # Systematics for TRecNet models\n",
    "    elif 'TRecNet' in reco_method and 'sys' in reco_method:\n",
    "\n",
    "        # Get whether it's up or down systematics\n",
    "        sys_type = reco_method.split('_')[0]\n",
    "\n",
    "        # Load sys data\n",
    "        sys_arr = f['reco'].arrays()\n",
    "\n",
    "        # ISSUE: this is cutting all events! Not sure why but shouldn't matter once it's all the new data? Idk, it really shouldnt be happening\n",
    "        # Only take events with the same event numbers as the test data\n",
    "        #sel = np.isin(sys_arr['eventNumber'],eventnumbers)\n",
    "        #sys_arr = sys_arr[sel]\n",
    "\n",
    "\n",
    "        # Create dataframe with reco data, as well as event numbers\n",
    "        df = ak.to_pandas(sys_arr)\n",
    "        #df = df.drop('index',axis=1) # index not in df I guess\n",
    "\n",
    "        # Bit of a hack for now:\n",
    "        # Get whether it's up or down systematics\n",
    "        sys_type = reco_method.split('_')[0]\n",
    "        df = df.add_prefix(sys_type+'_')   # Want to add sysUP or sysDOWN prefix to match the other files\n",
    "        df = df.rename(columns={sys_type+'_eventNumber':'eventNumber',sys_type+'_jet_n':'jet_n',sys_type+'_logLikelihood':'logLikelihood'})\n",
    "\n",
    "    # Systematics for non-TRecNet models\n",
    "    elif 'TRecNet' not in reco_method and 'sys' in reco_method:\n",
    "\n",
    "        # Get whether it's up or down systematics\n",
    "        sys_type = reco_method.split('_')[0]\n",
    "\n",
    "        # Load sys data\n",
    "        sys_arr = f[sys_type].arrays()\n",
    "\n",
    "        # ISSUE: this is cutting all events! Not sure why but shouldn't matter once it's all the new data? Idk, it really shouldnt be happening\n",
    "        # Only take events with the same event numbers as the test data\n",
    "        #sel = np.isin(sys_arr['eventNumber'],eventnumbers)\n",
    "        #sys_arr = sys_arr[sel]\n",
    "\n",
    "\n",
    "        # Create dataframe with reco data, as well as event numbers\n",
    "        df = ak.to_pandas(sys_arr)\n",
    "        #df = df.drop('index',axis=1) # index not in df I guess\n",
    "\n",
    "        # Bit of a hack for now:\n",
    "        #df = df.add_prefix('reco_')\n",
    "        #df = df.rename(columns={'reco_eventNumber':'eventNumber'})\n",
    "\n",
    "\n",
    "\n",
    "\n",
    "    # For likelihood-based models ... \n",
    "    else:\n",
    "\n",
    "        # Load truth and reco data\n",
    "        truth_arr = f['truth'].arrays()\n",
    "        reco_arr = f['reco'].arrays()\n",
    "\n",
    "        # ISSUE: this is cutting all events! Not sure why but shouldn't matter once it's all the new data? Idk, it really shouldnt be happening\n",
    "        # Only take events with the same event numbers as the test data\n",
    "        sel = np.isin(truth_arr['eventNumber'],eventnumbers)\n",
    "        truth_arr = truth_arr[sel]\n",
    "        reco_arr = reco_arr[sel]\n",
    "\n",
    "\n",
    "        # Create dataframe with truth and reco data, as well as event numbers\n",
    "        truth_df = ak.to_pandas(truth_arr)\n",
    "        truth_df = truth_df.drop('index',axis=1)\n",
    "        reco_df = ak.to_pandas(reco_arr)\n",
    "        reco_df = reco_df.drop('index',axis=1)\n",
    "        df = pd.concat([truth_df,reco_df], axis=1)\n",
    "\n",
    "    \n",
    "\n",
    "    return df\n",
    "\n",
    "\n",
    "\n",
    "\n",
    "def Append_Calculations(df,model):\n",
    "    \"\"\"\n",
    "        Calculate a few more observables that we might want to plot.\n",
    "\n",
    "            Parameters:\n",
    "                df (pd.DataFrame): Dataframe from which new observables will be calculated and to which they'll be appended.\n",
    "                model (str): Name of the model for this dataframe.\n",
    "\n",
    "            Returns:\n",
    "                df (pd.DataFrame): Input dataframe with the new observables appended.\n",
    "    \"\"\"\n",
    "\n",
    "    # Do so for both truth and reco\n",
    "    for level in ['truth','reco']:\n",
    "\n",
    "        # Skip doing this systematics ???? Bit confused about what this is ...\n",
    "        if level=='truth' and 'sys' in model:\n",
    "            continue\n",
    "\n",
    "        # Append calculations for px and py for ttbar \n",
    "        df[level+'_ttbar_px'] = df[level+'_ttbar_pt']*np.cos(df[level+'_ttbar_phi'])\n",
    "        df[level+'_ttbar_py'] = df[level+'_ttbar_pt']*np.sin(df[level+'_ttbar_phi'])\n",
    "\n",
    "        # Chi2 doesn't have hadronic or leptonic tops, so we can't do the following for that model\n",
    "        if model!='Chi2':\n",
    "\n",
    "            # Append calculations for px and py for th and tl\n",
    "            df[level+'_th_px'] = df[level+'_th_pt']*np.cos(df[level+'_th_phi'])\n",
    "            df[level+'_th_py'] = df[level+'_th_pt']*np.sin(df[level+'_th_phi'])\n",
    "            df[level+'_tl_px'] = df[level+'_tl_pt']*np.cos(df[level+'_tl_phi'])\n",
    "            df[level+'_tl_py'] = df[level+'_tl_pt']*np.sin(df[level+'_tl_phi'])\n",
    "\n",
    "            # Calculate ttbar deta and append\n",
    "            th_vec = vector.arr({\"pt\": df[level+'_th_pt'], \"phi\": df[level+'_th_phi'], \"eta\": df[level+'_th_eta'],\"mass\": df[level+'_th_m']})\n",
    "            tl_vec = vector.arr({\"pt\": df[level+'_tl_pt'], \"phi\": df[level+'_tl_phi'], \"eta\": df[level+'_tl_eta'],\"mass\": df[level+'_tl_m']}) \n",
    "            df[level+'_ttbar_deta'] = abs(th_vec.deltaeta(tl_vec))\n",
    "\n",
    "            # If the model is KLFitter or PseudoTop ...\n",
    "            if model=='KLFitter4' or model=='KLFitter6' or model=='PseudoTop':\n",
    "\n",
    "                # Calculate and append dphi, Ht, yboost, and ystar for ttbar\n",
    "                df[level+'_ttbar_dphi'] = abs(th_vec.deltaphi(tl_vec))\n",
    "                df[level+'_ttbar_Ht'] = df[level+'_th_pt']+df[level+'_tl_pt']\n",
    "                df[level+'_ttbar_yboost'] = 0.5*(df[level+'_th_y']+df[level+'_tl_y'])\n",
    "                df[level+'_ttbar_ystar'] = 0.5*(df[level+'_th_y']-df[level+'_tl_y'])\n",
    "\n",
    "\n",
    "    return df\n",
    "\n",
    "\n",
    "\n",
    "def convertUnits(df_col,from_units,to_units):\n",
    "\n",
    "    # Only bother converting if units are actually different\n",
    "    if from_units!=to_units:\n",
    "\n",
    "        # Figure out how many eV per the units we're converting from\n",
    "        from_prefix = from_units[0] if from_units!='eV' else ''\n",
    "        from_factor = 1 if from_prefix=='' else 10**6 if from_prefix=='M' else 10**9 if from_prefix=='G' else 10**12 if from_prefix=='T' else 0\n",
    "\n",
    "        # Figure out how many eV per the units we're converting to\n",
    "        to_prefix = to_units[0] if to_units!='eV' else ''\n",
    "        to_factor = 1 if to_prefix=='' else 10**6 if to_prefix=='M' else 10**9 if to_prefix=='G' else 10**12 if to_prefix=='T' else 0\n",
    "\n",
    "        # If we're not prepared to handle this unit, throw an error\n",
    "        if from_factor==0 or to_factor==0:\n",
    "            print('Units prefix not recognized (currently recognizes: eV, MeV, GeV or TeV.) Please use one of these, or edit this code.')\n",
    "            sys.exit()\n",
    "\n",
    "        # Convert from the previous units to the new units\n",
    "        df_col = df_col*(from_factor/to_factor)\n",
    "\n",
    "    return df_col\n",
    "\n",
    "\n",
    "\n",
    "# CURRENTLY ONLY FOR ENERGY, INCLUDE OTHERS LATER???\n",
    "def Scale_Data(df,truth_units,reco_units,par_specs):\n",
    "\n",
    "    # Go through all the observables\n",
    "    for (par,spec) in par_specs.items():\n",
    "    \tfor obs in spec['observables']:\n",
    "        \n",
    "            # Look at observables with energy units\n",
    "            if 'eV' in obs['unit']:\n",
    "\n",
    "                # Convert from truth units to units specified for the observable\n",
    "                if 'truth_'+par+'_'+obs['name'] in df.keys():\n",
    "                    df['truth_'+par+'_'+obs['name']] = convertUnits(df['truth_'+par+'_'+obs['name']],truth_units,obs['unit'])\n",
    "\n",
    "                # Convert from reco units to units specified for the observable\n",
    "                if 'reco_'+par+'_'+obs['name'] in df.keys():\n",
    "                    df['reco_'+par+'_'+obs['name']] = convertUnits(df['reco_'+par+'_'+obs['name']],reco_units,obs['unit'])\n",
    "\n",
    "    return df\n",
    "\n",
    "\n",
    "def getCutDF(df,cut_on,max,min):\n",
    "    \"\"\"\n",
    "    Creates a version of the input dataframe with the specified cuts (or lack thereof).\n",
    "\n",
    "        Parameters:\n",
    "            df (pd.DataFrame): Base dataframe.\n",
    "            cut_on (str or None): Name of the thing which is being cut on, or None if no cut is desired.\n",
    "            max (int or None): Maximum value, or None if there is no maximum desired..\n",
    "            min (int or None): Minimum value, or None if there is no minimum desired.\n",
    "\n",
    "        Returns:\n",
    "            df_cut (pd.DataFrame): Dataframe with the implemented cuts, or the original dataframe if no cuts are desired.\n",
    "    \"\"\"\n",
    "\n",
    "    # Keep data with quantity > min\n",
    "    if max==None and min!=None:\n",
    "        df_cut = df[df[cut_on]>min]\n",
    "\n",
    "    # Keep data with quantity < max\n",
    "    elif max!=None and min==None:\n",
    "        df_cut = df[df[cut_on]<max]\n",
    "\n",
    "    # Keep data with min < quantity < max\n",
    "    elif max!=None and min!=None:\n",
    "        df_cut = df[df[cut_on]>min]\n",
    "        df_cut = df_cut[df_cut[cut_on]<max]\n",
    "\n",
    "    # No cuts\n",
    "    else:\n",
    "        df_cut = df\n",
    "\n",
    "    return df_cut"
   ]
  },
  {
   "cell_type": "code",
   "execution_count": 6,
   "metadata": {},
   "outputs": [
    {
     "name": "stdout",
     "output_type": "stream",
     "text": [
      "Reading in data for TRecNet ...\n",
      "Reading in data for sysUP_TRecNet ...\n",
      "Reading in data for sysDOWN_TRecNet ...\n",
      "Reading in data for TRecNet+ttbar ...\n",
      "Reading in data for sysUP_TRecNet+ttbar ...\n",
      "Reading in data for sysDOWN_TRecNet+ttbar ...\n",
      "Reading in data for TRecNet+ttbar+JetPretrain ...\n",
      "Reading in data for sysUP_TRecNet+ttbar+JetPretrain ...\n",
      "Reading in data for sysDOWN_TRecNet+ttbar+JetPretrain ...\n",
      "Reading in data for KLFitter6 ...\n",
      "Reading in data for sysUP_KLFitter6 ...\n",
      "Reading in data for sysDOWN_KLFitter6 ...\n",
      "Reading in data for PseudoTop ...\n",
      "Reading in data for sysUP_PseudoTop ...\n",
      "Reading in data for sysDOWN_PseudoTop ...\n",
      "Reading in data for Chi2 ...\n",
      "Reading in data for sysUP_Chi2 ...\n",
      "Reading in data for sysDOWN_Chi2 ...\n"
     ]
    }
   ],
   "source": [
    "# Get the total number of test events and the list of test events\n",
    "f_test = h5py.File(plotting_info['test_filename'],'r')\n",
    "eventnumbers = np.array(f_test.get('eventNumber'))\n",
    "f_test.close()\n",
    "\n",
    "\n",
    "\n",
    "\n",
    "\n",
    "\n",
    "# Create a dictionary to hold all the datsets\n",
    "datasets = []\n",
    "\n",
    "datatype=plotting_info[\"datatype\"]\n",
    "\n",
    "# Go through each model in the list of those we need to load\n",
    "for model_name in ['TRecNet','TRecNet+ttbar','TRecNet+ttbar+JetPretrain','KLFitter6','PseudoTop','Chi2']:\n",
    "\n",
    "    # Create a dataframe for that model, append some other variables we might want to plot, and scale data to desired units of energy\n",
    "    df = readInData(model_name,model_specs[model_name][\"input_file\"],eventnumbers)\n",
    "    #df = Append_Calculations(df,model_name)\n",
    "    df = Scale_Data(df,model_specs[model_name][\"truth_units\"],model_specs[model_name][\"reco_units\"],par_specs)\n",
    "\n",
    "                \n",
    "    # We always want systematics\n",
    "    if True:\n",
    "\n",
    "        # Create dataframe for up systematics\n",
    "        up_df = readInData('sysUP_'+model_name,model_specs[model_name][\"sysUP_input\"],eventnumbers)\n",
    "        #up_df = Append_Calculations(up_df,'sysUP_'+model_name)\n",
    "        up_df = Scale_Data(up_df,model_specs[model_name][\"truth_units\"],model_specs[model_name][\"reco_units\"],par_specs)\n",
    "\n",
    "        # Create dataframe for down systematics\n",
    "        down_df = readInData('sysDOWN_'+model_name,model_specs[model_name][\"sysDOWN_input\"],eventnumbers)\n",
    "        #down_df = Append_Calculations(down_df,'sysDOWN_'+model_name)\n",
    "        down_df = Scale_Data(down_df,model_specs[model_name][\"truth_units\"],model_specs[model_name][\"reco_units\"],par_specs)        \n",
    "\n",
    "\n",
    "        # Create a dataset for each cut of the model we want to look at (is there a better way to do this, like within the plotting framework, so we don't have to make a bunch of dataframes?)\n",
    "        for cut in model_specs[model_name][\"cuts\"]:\n",
    "\n",
    "            # Grab the things we'll need\n",
    "            cut_on, min, max, tag, color_scheme = cut[\"cut_on\"], cut[\"min\"], cut[\"max\"], cut[\"tag\"], cut[\"color_scheme\"],\n",
    "\n",
    "            # Get the dataframes with the specified cuts (or lackthereof)\n",
    "            df_cut = getCutDF(df,cut_on,max,min)\n",
    "            up_df_cut = getCutDF(up_df,cut_on,max,min)\n",
    "            down_df_cut = getCutDF(down_df,cut_on,max,min)\n",
    "                \n",
    "            # Create the dataset object and append it to our dictionary\n",
    "            p = int(100*len(df_cut)/total_test_events)\n",
    "            dataset = Dataset(df_cut,model_name,datatype,color_scheme,sysUP_df=up_df_cut,sysDOWN_df=down_df_cut,shortname=model_specs[model_name][\"shortname\"],cuts=tag,perc_events=p)\n",
    "            datasets.append(dataset)\n"
   ]
  },
  {
   "cell_type": "code",
   "execution_count": 24,
   "metadata": {},
   "outputs": [
    {
     "name": "stdout",
     "output_type": "stream",
     "text": [
      "TRecNet No Cuts\n",
      "TRecNet+ttbar No Cuts\n",
      "TRecNet+ttbar+JetPretrain No Cuts\n",
      "KLFitter6 No Cuts\n",
      "KLFitter6 LL>-52\n",
      "PseudoTop No Cuts\n"
     ]
    }
   ],
   "source": [
    "for ds in datasets[:-2]: print(ds.reco_method, ds.cuts)"
   ]
  },
  {
   "cell_type": "code",
   "execution_count": 13,
   "metadata": {},
   "outputs": [],
   "source": [
    "trn = datasets[0]\n",
    "ttbar = datasets[1]\n",
    "jp = datasets[2]\n",
    "klf6 = datasets[3]\n",
    "klf6cuts= datasets[4]\n",
    "pseudotop = datasets[5]\n",
    "chi2 = datasets[6]\n",
    "chi2cuts = datasets[7]"
   ]
  },
  {
   "cell_type": "code",
   "execution_count": 96,
   "metadata": {},
   "outputs": [
    {
     "name": "stdout",
     "output_type": "stream",
     "text": [
      "For TRecNet with No Cuts(100%)\n",
      "Nominal: [2599575. 1002708.  247843.   66066.   18195.]\n",
      "Up: [19990340.  7629612.  1887195.   505210.   138339.]\n",
      "Down: [18746186.  7168674.  1771632.   474003.   130047.]\n",
      "\n",
      "\n",
      "For TRecNet+ttbar with No Cuts(100%)\n",
      "Nominal: [2602522. 1002315.  246149.   64920.   18106.]\n",
      "Up: [20034449.  7611483.  1873578.   492409.   136732.]\n",
      "Down: [18783489.  7153273.  1760509.   462521.   128741.]\n",
      "\n",
      "\n",
      "For TRecNet+ttbar+JetPretrain with No Cuts(100%)\n",
      "Nominal: [2592250. 1013828.  249069.   63283.   16790.]\n",
      "Up: [19929904.  7722256.  1897781.   481987.   126241.]\n",
      "Down: [18688019.  7256132.  1782322.   452641.   118463.]\n",
      "\n",
      "\n",
      "For KLFitter6 with No Cuts(94%)\n",
      "Nominal: [2417706.  957764.  235811.   66527.   21278.]\n",
      "Up: [20768440.  8067675.  1984699.   555482.   179677.]\n",
      "Down: [19442155.  7620613.  1891113.   536114.   175511.]\n",
      "\n",
      "\n",
      "For KLFitter6 with LL>-52(77%)\n",
      "Nominal: [2140489.  716103.  151312.   35781.    9389.]\n",
      "Up: [17736963.  5707459.  1180840.   269807.    69558.]\n",
      "Down: [16526677.  5315777.  1099827.   252543.    65664.]\n",
      "\n",
      "\n",
      "For PseudoTop with No Cuts(94%)\n",
      "Nominal: [2301551. 1044541.  254460.   72840.   23697.]\n",
      "Up: [19558569.  8954765.  2189314.   625884.   206982.]\n",
      "Down: [18326849.  8425427.  2086839.   603664.   202122.]\n",
      "\n",
      "\n"
     ]
    }
   ],
   "source": [
    "nbins=5\n",
    "mmin = 100\n",
    "mmax = 1450\n",
    "ran = (mmin,mmax)\n",
    "\n",
    "\n",
    "for ds in datasets[:-2]:\n",
    "\n",
    "    print('For '+ds.reco_method+' with '+ds.cuts+'('+str(ds.perc_events)+'%)')\n",
    "\n",
    "    plt.figure('No Density',figsize=(12,9))\n",
    "    den = False\n",
    "    reco_n, bins, _ = plt.hist(ds.df['reco_th_E'],bins=nbins,range=ran,histtype='step',density=den,label='nom',color='k')\n",
    "    sysUP_n, _, _ = plt.hist(ds.sysUP_df['sysUP_th_E'],bins=nbins,range=ran,histtype='step',density=den,label='up',color='r')\n",
    "    sysDOWN_n, _, _ = plt.hist(ds.sysDOWN_df['sysDOWN_th_E'],bins=nbins,range=ran,histtype='step',density=den,label='down',color='c')\n",
    "    #plt.legend()\n",
    "    #plt.show()\n",
    "    plt.close()\n",
    "    print('Nominal:',reco_n)\n",
    "    print('Up:',sysUP_n)\n",
    "    print('Down:',sysDOWN_n)\n",
    "    print('\\n')\n"
   ]
  },
  {
   "cell_type": "code",
   "execution_count": 126,
   "metadata": {},
   "outputs": [
    {
     "name": "stdout",
     "output_type": "stream",
     "text": [
      "For TRecNet with No Cuts(100%)\n",
      "Nominal: [0.00193, 0.000265, 2.96e-05]\n",
      "Up: [0.00193, 0.000264, 2.94e-05]\n",
      "Down: [0.00193, 0.000264, 2.94e-05]\n",
      "Frac Up: [ 0.08658672 -0.54143683 -0.78896739]\n",
      "Frac Down: [-0.07028792  0.42661309  0.75609228]\n",
      "\n",
      "\n",
      "For TRecNet+ttbar with No Cuts(100%)\n",
      "Nominal: [0.00193, 0.000265, 2.91e-05]\n",
      "Up: [0.00193, 0.000262, 2.88e-05]\n",
      "Down: [0.00193, 0.000263, 2.88e-05]\n",
      "Frac Up: [ 0.13323161 -0.83656897 -1.22245858]\n",
      "Frac Down: [-0.11279186  0.69926306  1.11633558]\n",
      "\n",
      "\n",
      "For TRecNet+ttbar+JetPretrain with No Cuts(100%)\n",
      "Nominal: [0.00193, 0.000267, 2.78e-05]\n",
      "Up: [0.00193, 0.000266, 2.74e-05]\n",
      "Down: [0.00193, 0.000266, 2.74e-05]\n",
      "Frac Up: [ 0.08754888 -0.46604447 -1.59391993]\n",
      "Frac Down: [-0.07371396  0.38201805  1.44161158]\n",
      "\n",
      "\n",
      "For KLFitter6 with No Cuts(94%)\n",
      "Nominal: [0.00192, 0.00027, 3.39e-05]\n",
      "Up: [0.00192, 0.000266, 3.33e-05]\n",
      "Down: [0.00192, 0.000269, 3.44e-05]\n",
      "Frac Up: [ 0.22525887 -1.35927903 -1.92987755]\n",
      "Frac Down: [-4.93163052e-04  1.62929600e-01 -1.26685824e+00]\n",
      "\n",
      "\n",
      "For KLFitter6 with LL>-52(77%)\n",
      "Nominal: [0.00199, 0.000215, 2.01e-05]\n",
      "Up: [0.002, 0.000206, 1.82e-05]\n",
      "Down: [0.002, 0.000206, 1.84e-05]\n",
      "Frac Up: [ 0.55287672 -4.24755909 -9.15831742]\n",
      "Frac Down: [-0.54594397  4.24886139  8.45862632]\n",
      "\n",
      "\n",
      "For PseudoTop with No Cuts(94%)\n",
      "Nominal: [0.00189, 0.000292, 3.75e-05]\n",
      "Up: [0.00189, 0.000294, 3.81e-05]\n",
      "Down: [0.00189, 0.000298, 3.93e-05]\n",
      "Frac Up: [-0.18251254  0.98437395  1.56323316]\n",
      "Frac Down: [ 0.42689866 -2.13972111 -4.92274883]\n",
      "\n",
      "\n"
     ]
    },
    {
     "data": {
      "image/png": "[encoded data removed]",
      "text/plain": [
       "<Figure size 864x648 with 1 Axes>"
      ]
     },
     "metadata": {
      "needs_background": "light"
     },
     "output_type": "display_data"
    }
   ],
   "source": [
    "nbins=3\n",
    "mmin = 100\n",
    "mmax = 1450\n",
    "ran = (mmin,mmax)\n",
    "\n",
    "\n",
    "for ds in datasets[:-2]:\n",
    "\n",
    "    print('For '+ds.reco_method+' with '+ds.cuts+'('+str(ds.perc_events)+'%)')\n",
    "\n",
    "    plt.figure('Density',figsize=(12,9))\n",
    "    den = True\n",
    "    reco_n, bins, _ = plt.hist(ds.df['reco_th_E'],bins=nbins,range=ran,histtype='step',density=den,label='nom'+ds.reco_method,color='k')\n",
    "    sysUP_n, _, _ = plt.hist(ds.sysUP_df['sysUP_th_E'],bins=nbins,range=ran,histtype='step',density=den,label='up'+ds.reco_method,color='r')\n",
    "    sysDOWN_n, _, _ = plt.hist(ds.sysDOWN_df['sysDOWN_th_E'],bins=nbins,range=ran,histtype='step',density=den,label='down'+ds.reco_method,color='c')\n",
    "    #plt.legend()\n",
    "    #plt.show()\n",
    "    #plt.close()\n",
    "    print('Nominal:',[round(i,sigfigs=3) for i in reco_n])\n",
    "    print('Up:',[round(i,sigfigs=3) for i in sysUP_n])\n",
    "    print('Down:',[round(i,sigfigs=3) for i in sysDOWN_n])\n",
    "    print('Frac Up:',100*sysUP_n/reco_n-100)\n",
    "    print('Frac Down:',100-100*sysDOWN_n/reco_n)\n",
    "    print('\\n')\n",
    "\n",
    "plt.legend()\n",
    "plt.show()"
   ]
  },
  {
   "cell_type": "code",
   "execution_count": 125,
   "metadata": {},
   "outputs": [
    {
     "name": "stdout",
     "output_type": "stream",
     "text": [
      "[ 0.42689866 -2.13972111 -4.92274883]\n",
      "[ 0.00426899 -0.02139721 -0.04922749]\n"
     ]
    },
    {
     "data": {
      "text/plain": [
       "<matplotlib.legend.Legend at 0x7fb23432d400>"
      ]
     },
     "execution_count": 125,
     "metadata": {},
     "output_type": "execute_result"
    },
    {
     "data": {
      "image/png": "[encoded data removed]",
      "text/plain": [
       "<Figure size 864x648 with 1 Axes>"
      ]
     },
     "metadata": {
      "needs_background": "light"
     },
     "output_type": "display_data"
    }
   ],
   "source": [
    "sysUP_results = np.array([100*(up-nom)/nom for up,nom in zip(sysUP_n,reco_n)])\n",
    "sysDOWN_results = np.array([100*(nom-down)/nom for down,nom in zip(sysDOWN_n,reco_n)])\n",
    "\n",
    "print(sysDOWN_results)\n",
    "print(1-sysDOWN_n/reco_n)\n",
    "\n",
    "bin_width = bins[1]-bins[0]\n",
    "bin_width = np.diff(bins)\n",
    "plt.figure('Sys_Hist',figsize=(12,9))\n",
    "#plt.plot(bins[:-1]+bin_width/2,sysUP_results,'ko',label='up')\n",
    "#plt.plot(bins[:-1]+bin_width/2,sysDOWN_results,'bo',label='down')\n",
    "x_dash, y_dash = np.linspace(mmin,mmax,nbins),[0]*nbins\n",
    "plt.plot(x_dash,y_dash,'k--')\n",
    "plt.bar(x=bins[:-1],height=sysUP_results,width=np.diff(bins),align='edge',fill=True,linewidth=1,color='r',edgecolor='r',alpha=0.5,zorder=-1,label='up')\n",
    "plt.bar(x=bins[:-1],height=sysDOWN_results,width=np.diff(bins),align='edge',fill=True,linewidth=1,color='b',edgecolor='b',alpha=0.5,zorder=-1,label='down')\n",
    "plt.legend()"
   ]
  },
  {
   "cell_type": "code",
   "execution_count": null,
   "metadata": {},
   "outputs": [],
   "source": []
  },
  {
   "cell_type": "code",
   "execution_count": null,
   "metadata": {},
   "outputs": [],
   "source": []
  },
  {
   "cell_type": "code",
   "execution_count": null,
   "metadata": {},
   "outputs": [],
   "source": []
  },
  {
   "cell_type": "code",
   "execution_count": null,
   "metadata": {},
   "outputs": [],
   "source": []
  },
  {
   "cell_type": "code",
   "execution_count": 52,
   "metadata": {},
   "outputs": [
    {
     "data": {
      "image/png": "[encoded data removed]",
      "text/plain": [
       "<Figure size 864x648 with 1 Axes>"
      ]
     },
     "metadata": {
      "needs_background": "light"
     },
     "output_type": "display_data"
    },
    {
     "data": {
      "image/png": "[encoded data removed]",
      "text/plain": [
       "<Figure size 864x648 with 1 Axes>"
      ]
     },
     "metadata": {
      "needs_background": "light"
     },
     "output_type": "display_data"
    }
   ],
   "source": [
    "nbins=20\n",
    "ran = (0,550)\n",
    "\n",
    "plt.figure('No Density',figsize=(12,9))\n",
    "den = False\n",
    "reco_n, bins, _ = plt.hist(dataset.df['reco_th_pt'],bins=nbins,range=ran,histtype='step',density=den,label='nom',color='k')\n",
    "sysUP_n, _, _ = plt.hist(dataset.sysUP_df['sysUP_th_pt'],bins=nbins,range=ran,histtype='step',density=den,label='up',color='r')\n",
    "sysDOWN_n, _, _ = plt.hist(dataset.sysDOWN_df['sysDOWN_th_pt'],bins=nbins,range=ran,histtype='step',density=den,label='down',color='c')\n",
    "plt.legend()\n",
    "\n",
    "plt.figure('Density',figsize=(12,9))\n",
    "den=True\n",
    "reco_n, bins, _ = plt.hist(dataset.df['reco_th_pt'],bins=nbins,range=ran,histtype='step',density=den,label='nom',color='k')\n",
    "sysUP_n, _, _ = plt.hist(dataset.sysUP_df['sysUP_th_pt'],bins=nbins,range=ran,histtype='step',density=den,label='up',color='r')\n",
    "sysDOWN_n, _, _ = plt.hist(dataset.sysDOWN_df['sysDOWN_th_pt'],bins=nbins,range=ran,histtype='step',density=den,label='down',color='c')\n",
    "plt.legend()\n",
    "\n",
    "plt.show()"
   ]
  },
  {
   "cell_type": "code",
   "execution_count": 53,
   "metadata": {},
   "outputs": [
    {
     "name": "stdout",
     "output_type": "stream",
     "text": [
      "3711917\n",
      "31669064\n",
      "29777805\n"
     ]
    }
   ],
   "source": [
    "print(len(dataset.df['reco_th_pt']))\n",
    "print(len(dataset.sysUP_df['sysUP_th_pt']))\n",
    "print(len(dataset.sysDOWN_df['sysDOWN_th_pt']))"
   ]
  },
  {
   "cell_type": "code",
   "execution_count": 56,
   "metadata": {},
   "outputs": [
    {
     "data": {
      "text/plain": [
       "<matplotlib.legend.Legend at 0x7f75b29c3d60>"
      ]
     },
     "execution_count": 56,
     "metadata": {},
     "output_type": "execute_result"
    },
    {
     "data": {
      "image/png": "[encoded data removed]",
      "text/plain": [
       "<Figure size 864x648 with 1 Axes>"
      ]
     },
     "metadata": {
      "needs_background": "light"
     },
     "output_type": "display_data"
    }
   ],
   "source": [
    "#sysUP_results = np.array([(up-nom)/nom for up,nom in zip(dup,dreco)])\n",
    "#sysDOWN_results = np.array([(nom-down)/nom for down,nom in zip(ddown,dreco)])\n",
    "\n",
    "#average = (sysUP_n+sysDOWN_n)/2\n",
    "sysUP_results = np.array([100*(up-nom)/nom for up,nom in zip(sysUP_n,reco_n)])\n",
    "sysDOWN_results = np.array([100*(nom-down)/nom for down,nom in zip(sysDOWN_n,reco_n)])\n",
    "\n",
    "bin_width = bins[1]-bins[0]\n",
    "plt.figure('Sys_Hist',figsize=(12,9))\n",
    "#plt.plot(bins[:-1]+bin_width/2,sysUP_results,'ko',label='up')\n",
    "#plt.plot(bins[:-1]+bin_width/2,sysDOWN_results,'bo',label='down')\n",
    "x_dash, y_dash = np.linspace(0,550,nbins),[0]*nbins\n",
    "plt.plot(x_dash,y_dash,'k--')\n",
    "plt.bar(x=bins[:-1],height=sysUP_results,width=np.diff(bins),align='edge',fill=True,linewidth=1,color='r',edgecolor='r',alpha=0.5,zorder=-1,label='up')\n",
    "plt.bar(x=bins[:-1],height=sysDOWN_results,width=np.diff(bins),align='edge',fill=True,linewidth=1,color='b',edgecolor='b',alpha=0.5,zorder=-1,label='down')\n",
    "plt.legend()"
   ]
  },
  {
   "cell_type": "code",
   "execution_count": 68,
   "metadata": {},
   "outputs": [
    {
     "data": {
      "text/plain": [
       "<matplotlib.legend.Legend at 0x7f75b267dd90>"
      ]
     },
     "execution_count": 68,
     "metadata": {},
     "output_type": "execute_result"
    },
    {
     "data": {
      "image/png": "[encoded data removed]",
      "text/plain": [
       "<Figure size 432x288 with 1 Axes>"
      ]
     },
     "metadata": {
      "needs_background": "light"
     },
     "output_type": "display_data"
    }
   ],
   "source": [
    "sysUP_results = np.array([100*(up-nom)/nom for up,nom in zip(sysUP_n,reco_n)])\n",
    "sysDOWN_results = np.array([100*(nom-down)/nom for down,nom in zip(sysDOWN_n,reco_n)])\n",
    "\n",
    "pos_weights = np.array([up if up>0 else down if down>0 else 0 for up, down in zip(sysUP_results,sysDOWN_results)])\n",
    "neg_weights = np.array([up if up<0 else down if down<0 else 0 for up, down in zip(sysUP_results,sysDOWN_results)])\n",
    "\n",
    "plt.hist(bins[:-1], bins, weights=pos_weights, histtype='step', color='b', label=dataset.reco_method)\n",
    "plt.hist(bins[:-1], bins, weights=neg_weights, histtype='step', color='b')\n",
    "plt.legend()"
   ]
  },
  {
   "cell_type": "code",
   "execution_count": null,
   "metadata": {},
   "outputs": [],
   "source": []
  },
  {
   "cell_type": "code",
   "execution_count": null,
   "metadata": {},
   "outputs": [],
   "source": []
  },
  {
   "cell_type": "code",
   "execution_count": 49,
   "metadata": {},
   "outputs": [
    {
     "data": {
      "text/plain": [
       "(array([2., 1., 1., 1.]),\n",
       " array([1.  , 1.75, 2.5 , 3.25, 4.  ]),\n",
       " [<matplotlib.patches.Polygon at 0x7fc49a8ce070>])"
      ]
     },
     "execution_count": 49,
     "metadata": {},
     "output_type": "execute_result"
    },
    {
     "data": {
      "image/png": "[encoded data removed]",
      "text/plain": [
       "<Figure size 432x288 with 1 Axes>"
      ]
     },
     "metadata": {
      "needs_background": "light"
     },
     "output_type": "display_data"
    }
   ],
   "source": [
    "x1=[1,1,1,1,2,2,3,3,3,4]\n",
    "x2=[1,2,2,3,3,3,3,4,4,4]\n",
    "\n",
    "n_dn,b_dn,p_dn = plt.hist(x2,histtype='stepfilled',bins=4,range=(1,4),color='orange',ec='black')\n",
    "n_up,b_up,p_up = plt.hist(x1,histtype='stepfilled',bins=4,range=(1,4),color='white',ec='red')\n",
    "plt.hist([1,1,2,3,4],histtype='step',bins=4,range=(1,4))\n",
    "\n",
    "# print(n_up)\n",
    "# print(n_dn)\n",
    "# print(b_up[:-1])\n",
    "\n",
    "# plt.fill_between(b_up[:-1],n_dn,n_up,alpha=0.5)\n",
    "# #plt.bar(x=b_up[:-1],height=np.abs(n_up-n_dn),width=np.diff(b_up), align='edge')\n",
    "\n",
    "\n"
   ]
  },
  {
   "cell_type": "code",
   "execution_count": 53,
   "metadata": {},
   "outputs": [],
   "source": [
    "# Trees for dR < 0.4 cut matching\n",
    "# with uproot.open('/data/jchishol/mc16e/mntuple_ttbar_0_parton_ejets_fixed+match0d4_new.root') as og_file:\n",
    "#     reco_tree04 = og_file['reco'].arrays()\n",
    "#     parton_tree04 = og_file['parton'].arrays()\n",
    "\n",
    "# # Trees for dR < 0.6 cut matching\n",
    "# with uproot.open('/data/jchishol/mc16e/mntuple_ttbar_0_parton_ejets_fixed+match0d6_new.root') as og_file:\n",
    "#     reco_tree06 = og_file['reco'].arrays()\n",
    "#     parton_tree06 = og_file['parton'].arrays()\n",
    "\n",
    "\n",
    "with uproot.open('/mnt/xrootdg/jchishol/mntuples_08_01_22/mc16a_4j/mntuple_ljets_5_jetMatch04.root') as og_file:\n",
    "    nom_tree = og_file['nominal'].arrays()"
   ]
  },
  {
   "cell_type": "code",
   "execution_count": null,
   "metadata": {},
   "outputs": [],
   "source": []
  },
  {
   "cell_type": "code",
   "execution_count": 75,
   "metadata": {},
   "outputs": [
    {
     "data": {
      "text/plain": [
       "<matplotlib.legend.Legend at 0x7fc45155c910>"
      ]
     },
     "execution_count": 75,
     "metadata": {},
     "output_type": "execute_result"
    },
    {
     "data": {
      "image/png": "[encoded data removed]",
      "text/plain": [
       "<Figure size 432x288 with 1 Axes>"
      ]
     },
     "metadata": {
      "needs_background": "light"
     },
     "output_type": "display_data"
    }
   ],
   "source": [
    "plt.hist(nom_tree['MC_ttbar_afterFSR_pt']/1000,range=(0,500),histtype='stepfilled',label='t',alpha=0.5)\n",
    "plt.hist(nom_tree['klfitter_bestPerm_ttbar_pt'],range=(0,500),histtype='step',label='r',color='white',ec='blue')\n",
    "plt.legend()\n"
   ]
  },
  {
   "cell_type": "code",
   "execution_count": 60,
   "metadata": {},
   "outputs": [],
   "source": [
    "from Plotter import Variable, Particle, Plot, Dataset"
   ]
  },
  {
   "cell_type": "code",
   "execution_count": 3,
   "metadata": {},
   "outputs": [],
   "source": [
    "# Define all the variables and their ranges we want\n",
    "scale = '[GeV]'\n",
    "pt = Variable('pt', 'p_T', np.arange(0,500,50), unit=scale)\n",
    "eta = Variable('eta', '\\eta', np.arange(-6,7.5,1.5))\n",
    "y = Variable('y', 'y', np.arange(-2.5,3,0.5))\n",
    "phi = Variable('phi', '\\phi', np.arange(-3,3.75,0.75))\n",
    "m_t = Variable('m','m', np.arange(100,260,20), unit=scale)\n",
    "E_t = Variable('E','E', np.arange(100,1000,100), unit=scale)\n",
    "#pout_t = Variable('pout','p_{out}',range(-275,325,50), unit=scale,alt_names=['Pout'])\n",
    "m_tt = Variable('m','m', np.arange(200,1100,100), unit=scale)\n",
    "E_tt = Variable('E','E', np.arange(200,2200,200), unit=scale)\n",
    "dphi_tt = Variable('dphi','\\Delta\\phi', np.arange(0,4,0.5),alt_names=['deltaPhi'])\n",
    "Ht_tt = Variable('Ht','H_T',np.arange(0,1100,100),unit=scale,alt_names=['HT'])\n",
    "yboost_tt = Variable('yboost','y_{boost}',np.arange(-3,3.5,0.75),alt_names=['y_boost'])\n",
    "#ystar_tt = Variable('ystar','y_{star}',np.arange(-2.5,3,0.5),alt_names=['y_star'])\n",
    "chi_tt = Variable('chi','\\chi',np.arange(0,25,2.5),alt_names=['chi_tt'])\n",
    "\n",
    "# Define the particles we want\n",
    "top_had = Particle('th','t,had',[pt,eta,y,phi,m_t,E_t],alt_names=['thad','topHad','top_had'])\n",
    "top_lep = Particle('tl','t,lep',[pt,eta,y,phi,m_t,E_t],alt_names=['tlep','topLep','top_lep'])\n",
    "top_antitop = Particle('ttbar','t\\overline{t}',[pt,eta,y,phi,m_tt,E_tt,dphi_tt,Ht_tt,yboost_tt,chi_tt])"
   ]
  },
  {
   "cell_type": "code",
   "execution_count": 4,
   "metadata": {},
   "outputs": [
    {
     "name": "stdout",
     "output_type": "stream",
     "text": [
      "       logLikelihood  truth_th_pt  reco_th_pt  truth_th_eta  reco_th_eta  \\\n",
      "entry                                                                      \n",
      "0         -62.613747   285.239685  274.562805     -0.412410     0.859794   \n",
      "1         -44.232487   118.037613   82.683647      0.331716     0.857541   \n",
      "2         -63.099541   123.360909  134.706146      0.234600    -1.060789   \n",
      "3         -54.928734    44.995213   87.198532      2.851338     1.683824   \n",
      "4         -45.096287    81.959869   57.753456      0.002967    -0.181185   \n",
      "...              ...          ...         ...           ...          ...   \n",
      "67572     -45.371948   110.561775   99.016541      0.162650     0.198588   \n",
      "67573     -61.264763   296.726715  119.532249      1.662143     3.050027   \n",
      "67574     -55.605442   162.887848  165.905212      2.010991     2.126416   \n",
      "67575     -65.133972   349.271027  128.007477      2.020694     3.243264   \n",
      "67576     -46.909729   249.972794  300.658478      1.087862     1.026124   \n",
      "\n",
      "       truth_th_y  reco_th_y  truth_th_phi  reco_th_phi  truth_th_m  ...  \\\n",
      "entry                                                                ...   \n",
      "0       -0.354980   0.345917     -0.290321     2.986957  173.390396  ...   \n",
      "1        0.191815   0.406527     -0.062933    -3.085755  169.589951  ...   \n",
      "2        0.137266  -0.538322     -0.185841    -2.799262  172.544266  ...   \n",
      "3        1.526331   0.723955     -0.840800     1.825029  171.268753  ...   \n",
      "4        0.001251  -0.057808      0.940577     2.972805  176.210800  ...   \n",
      "...           ...        ...           ...          ...         ...  ...   \n",
      "67572    0.088019   0.099356     -1.431929    -1.384816  172.565216  ...   \n",
      "67573    1.525636   1.234972      1.809944    -1.502398  174.357071  ...   \n",
      "67574    1.659645   1.774816      1.305368     1.388135  170.559677  ...   \n",
      "67575    1.915493   1.735545      2.098406     1.472837  172.730865  ...   \n",
      "67576    0.938766   0.919516      1.539528     1.502863  172.431580  ...   \n",
      "\n",
      "       reco_ttbar_E  truth_ttbar_E  truth_ttbar_yboost  reco_ttbar_chi  \\\n",
      "entry                                                                    \n",
      "0       1341.449097     939.416016           -0.890805        4.093000   \n",
      "1        403.305695     432.579987            0.317288        1.236625   \n",
      "2        923.105103     456.082977           -0.329713        2.922585   \n",
      "3        563.681030     665.282104            0.770998        3.302926   \n",
      "4        374.297668     379.228577           -0.064407        1.092917   \n",
      "...             ...            ...                 ...             ...   \n",
      "67572    423.372864     424.876160            0.259479        1.404099   \n",
      "67573   2114.326416    1425.536743            1.487371        1.630814   \n",
      "67574    997.880066     932.771179            0.864150        5.426085   \n",
      "67575   1975.466064    1586.730225            1.128172        4.161719   \n",
      "67576   1027.667236    1033.453735            1.054359        1.146815   \n",
      "\n",
      "       truth_ttbar_chi  truth_ttbar_Ht  truth_ttbar_dphi  reco_ttbar_Ht  \\\n",
      "entry                                                                     \n",
      "0             2.920189      487.429382          0.331253     560.560242   \n",
      "1             1.285242      224.514191          2.859972     167.819550   \n",
      "2             2.544562      181.200699          2.678573     272.548981   \n",
      "3             4.529742      227.174652          1.784852     129.170700   \n",
      "4             1.140329      164.307465          2.223262     142.054840   \n",
      "...                ...             ...               ...            ...   \n",
      "67572         1.409058      211.615005          2.829353     207.142685   \n",
      "67573         1.079535      498.002258          0.554916     248.165314   \n",
      "67574         4.908605      395.968903          3.099977     374.515015   \n",
      "67575         4.829014      490.498505          2.505921     268.657776   \n",
      "67576         1.260093      531.243286          2.888566     576.096497   \n",
      "\n",
      "       reco_ttbar_dphi  reco_ttbar_yboost  \n",
      "entry                                      \n",
      "0             3.042965          -0.358722  \n",
      "1             3.087347           0.300334  \n",
      "2             2.934159          -1.074556  \n",
      "3             2.391865           0.126551  \n",
      "4             2.136654          -0.013383  \n",
      "...                ...                ...  \n",
      "67572         2.871367           0.269054  \n",
      "67573         2.290392           1.479511  \n",
      "67574         3.132344           0.929208  \n",
      "67575         3.102414           1.022581  \n",
      "67576         2.907274           0.988010  \n",
      "\n",
      "[67572 rows x 45 columns]\n"
     ]
    }
   ],
   "source": [
    "# Open first root file and its trees\n",
    "file0 = uproot.open('/data/jchishol/mc1516_new/mntuple_ljets_01_jetMatch04.root')\n",
    "\n",
    "\n",
    "# Create pandas dataframe\n",
    "\n",
    "tree = file0['nominal'].arrays()\n",
    "keys = file0['nominal'].keys()\n",
    "\n",
    "# Did an met_met cut for the ML data, so let's match it here too\n",
    "sel = tree['met_met']/1000 >= 20\n",
    "tree = tree[sel]\n",
    "\n",
    "# Note: some events did not have a logLikelihood calculated -- we will need to pad these events to make sure nothing gets shifted weird, and then cut them\n",
    "df = ak.to_pandas(ak.fill_none(ak.pad_none(tree['klfitter_logLikelihood'],1),np.nan)) \n",
    "df.rename(columns={'values':'logLikelihood'},inplace=True)             # Rename first column appropriately\n",
    "df.reset_index(level=1, drop=True,inplace=True)\n",
    "\n",
    "# Add reco variables to be plotted\n",
    "for par in [top_had,top_lep,top_antitop]:      # For each particle\n",
    "\n",
    "    # Get all the possible names for this particle\n",
    "    alt_par_names = list(par.alt_names)\n",
    "    alt_par_names.append(par.name)\n",
    "\n",
    "    for var in par.variables:                  # For each variable of that particle\n",
    "\n",
    "        # Reset\n",
    "        found_reco=False\n",
    "        found_truth=False\n",
    "\n",
    "        # Get all the possible names for this variable\n",
    "        alt_var_names = list(var.alt_names)\n",
    "        alt_var_names.append(var.name)\n",
    "\n",
    "        for (par_name,var_name) in list(itertools.product(alt_par_names,alt_var_names)):\n",
    "            if 'klfitter_bestPerm_'+par_name+'_'+var_name in keys:\n",
    "                df['reco_'+par.name+'_'+var.name] = ak.to_pandas(tree['klfitter_bestPerm_'+par_name+'_'+var_name])      # Append the reco values\n",
    "                found_reco=True\n",
    "            if 'klfitter_bestPerm_'+var_name in keys: # (particularly, chi_tt)\n",
    "                df['reco_'+par.name+'_'+var.name] = ak.to_pandas(tree['klfitter_bestPerm_'+var_name])      # Append the reco values\n",
    "                found_reco=True\n",
    "            if 'MC_'+par_name+'_afterFSR_'+var_name in keys:\n",
    "                df['truth_'+par.name+'_'+var.name] = ak.to_pandas(tree['MC_'+par_name+'_afterFSR_'+var_name])    # Append the true values\n",
    "                found_truth=True\n",
    "            if 'MC_'+var_name in keys:  # (particularly, chi_tt)\n",
    "                df['truth_'+par.name+'_'+var.name] = ak.to_pandas(tree['MC_'+var_name])\n",
    "                found_truth = True\n",
    "            # if 'MC_'+par_name+var_name in keys: # (in particular, for Pout)\n",
    "            #     df['truth_'+par.name+'_'+var.name] = ak.to_pandas(tree['MC_'+par_name+var_name])    # Append the true values\n",
    "            #     found_truth=True\n",
    "\n",
    "            # Stop looking for the correct names once we find them\n",
    "            if found_reco and found_truth:\n",
    "                break\n",
    "\n",
    "# Drop those events where klfitter log likelihood couldn't be calculated\n",
    "df = df.dropna()\n",
    "\n",
    "for level in ['truth','reco']:\n",
    "\n",
    "    # ttbar Ht\n",
    "    df[level+'_ttbar_Ht'] = df[level+'_th_pt']+df[level+'_tl_pt']\n",
    "\n",
    "    # ttbar dphi\n",
    "    th_vec = vector.arr({\"pt\": df[level+'_th_pt'], \"phi\": df[level+'_th_phi'], \"eta\": df[level+'_th_eta'],\"mass\": df[level+'_th_m']})\n",
    "    tl_vec = vector.arr({\"pt\": df[level+'_tl_pt'], \"phi\": df[level+'_tl_phi'], \"eta\": df[level+'_tl_eta'],\"mass\": df[level+'_tl_m']}) \n",
    "    df[level+'_ttbar_dphi'] = abs(th_vec.deltaphi(tl_vec))\n",
    "\n",
    "    # ttbar yboost and ystar\n",
    "    df[level+'_ttbar_yboost'] = 0.5*(df[level+'_th_y']+df[level+'_tl_y'])\n",
    "    #df[level+'_ttbar_ystar'] = 0.5*(df[level+'_th_y']-df[level+'_tl_y'])\n",
    "\n",
    "for par in [top_had,top_lep,top_antitop]:           # For each particle\n",
    "    for var in par.variables:    # For each variable of that particle\n",
    "    \n",
    "        # Convert from MeV to GeV for some truth values\n",
    "        if var.name in ['pt','m','E','pout','Ht']:  \n",
    "            df['truth_'+par.name+'_'+var.name] = df['truth_'+par.name+'_'+var.name]/1000\n",
    "\n",
    "print(df)"
   ]
  },
  {
   "cell_type": "code",
   "execution_count": 5,
   "metadata": {},
   "outputs": [
    {
     "name": "stdout",
     "output_type": "stream",
     "text": [
      "         logLikelihood  truth_th_pt  reco_th_pt  truth_th_eta  reco_th_eta  \\\n",
      "0           -62.613747   285.239685  274.562805     -0.412410     0.859794   \n",
      "1           -44.232487   118.037613   82.683647      0.331716     0.857541   \n",
      "2           -63.099541   123.360909  134.706146      0.234600    -1.060789   \n",
      "3           -54.928734    44.995213   87.198532      2.851338     1.683824   \n",
      "4           -45.096287    81.959869   57.753456      0.002967    -0.181185   \n",
      "...                ...          ...         ...           ...          ...   \n",
      "7297337     -43.923218   232.905594  220.614853      0.823578     0.870250   \n",
      "7297338     -60.161686   141.205902  106.625519     -1.770418    -1.568926   \n",
      "7297339     -46.588768   112.763306   21.474077     -0.529325    -2.556788   \n",
      "7297340     -66.897110   304.542511   33.357075     -1.566077    -4.626599   \n",
      "7297341     -47.082821   123.513588   73.860817      1.121956     1.044984   \n",
      "\n",
      "         truth_th_y  reco_th_y  truth_th_phi  reco_th_phi  truth_th_m  ...  \\\n",
      "0         -0.354980   0.345917     -0.290321     2.986957  173.390396  ...   \n",
      "1          0.191815   0.406527     -0.062933    -3.085755  169.589951  ...   \n",
      "2          0.137266  -0.538322     -0.185841    -2.799262  172.544266  ...   \n",
      "3          1.526331   0.723955     -0.840800     1.825029  171.268753  ...   \n",
      "4          0.001251  -0.057808      0.940577     2.972805  176.210800  ...   \n",
      "...             ...        ...           ...          ...         ...  ...   \n",
      "7297337    0.686594   0.713388     -1.496404    -1.508396  170.783768  ...   \n",
      "7297338   -1.351507  -0.837041     -0.207060     2.749878  173.143372  ...   \n",
      "7297339   -0.301613  -0.726130      1.603892    -1.423231  170.192993  ...   \n",
      "7297340   -1.440196  -1.897459     -0.969936    -2.023391  172.424469  ...   \n",
      "7297341    0.730305   0.472519      1.775619     1.236954  173.193024  ...   \n",
      "\n",
      "         reco_ttbar_E  truth_ttbar_E  truth_ttbar_yboost  reco_ttbar_chi  \\\n",
      "0         1341.449097     939.416016           -0.890805        4.093000   \n",
      "1          403.305695     432.579987            0.317288        1.236625   \n",
      "2          923.105103     456.082977           -0.329713        2.922585   \n",
      "3          563.681030     665.282104            0.770998        3.302926   \n",
      "4          374.297668     379.228577           -0.064407        1.092917   \n",
      "...               ...            ...                 ...             ...   \n",
      "7297337    841.365479     851.143188            0.941407        1.714765   \n",
      "7297338   1012.081970     898.094421           -1.137093        2.497253   \n",
      "7297339    522.514404     498.456879            0.326737        5.573294   \n",
      "7297340   2085.433105    1059.324463           -0.331505       17.285750   \n",
      "7297341    437.160522     478.589691            0.255824        2.012419   \n",
      "\n",
      "         truth_ttbar_chi  truth_ttbar_Ht  truth_ttbar_dphi  reco_ttbar_Ht  \\\n",
      "0               2.920189      487.429382          0.331253     560.560242   \n",
      "1               1.285242      224.514191          2.859972     167.819550   \n",
      "2               2.544562      181.200699          2.678573     272.548981   \n",
      "3               4.529742      227.174652          1.784852     129.170700   \n",
      "4               1.140329      164.307465          2.223262     142.054840   \n",
      "...                  ...             ...               ...            ...   \n",
      "7297337         1.664667      443.308563          2.833701     411.530426   \n",
      "7297338         1.535458      385.793182          2.642448     243.532211   \n",
      "7297339         3.513804      196.053223          2.731278     114.821732   \n",
      "7297340         9.183252      430.064697          2.956675     141.626114   \n",
      "7297341         2.583025      234.369125          2.197956     214.238312   \n",
      "\n",
      "         reco_ttbar_dphi  reco_ttbar_yboost  \n",
      "0               3.042965          -0.358722  \n",
      "1               3.087347           0.300334  \n",
      "2               2.934159          -1.074556  \n",
      "3               2.391865           0.126551  \n",
      "4               2.136654          -0.013383  \n",
      "...                  ...                ...  \n",
      "7297337         2.852878           0.983026  \n",
      "7297338         1.494811          -1.294637  \n",
      "7297339         0.671188           0.132863  \n",
      "7297340         2.007880          -0.472518  \n",
      "7297341         2.804055           0.122850  \n",
      "\n",
      "[7297342 rows x 45 columns]\n"
     ]
    }
   ],
   "source": [
    "new_df = df\n",
    "for i in ['02','03','04','05','06','07','08','09','10','11']:\n",
    "\n",
    "    # Open first root file and its trees\n",
    "    file0 = uproot.open('/data/jchishol/mc1516_new/mntuple_ljets_'+i+'_jetMatch04.root')\n",
    "\n",
    "\n",
    "    # Create pandas dataframe\n",
    "\n",
    "    tree = file0['nominal'].arrays()\n",
    "    keys = file0['nominal'].keys()\n",
    "\n",
    "    df = ak.to_pandas(tree['klfitter_logLikelihood']) \n",
    "    df.rename(columns={'values':'logLikelihood'},inplace=True)             # Rename first column appropriately\n",
    "    df.reset_index(level=1, drop=True,inplace=True)\n",
    "\n",
    "    # Add reco variables to be plotted\n",
    "    for par in [top_had,top_lep,top_antitop]:      # For each particle\n",
    "\n",
    "        # Get all the possible names for this particle\n",
    "        alt_par_names = list(par.alt_names)\n",
    "        alt_par_names.append(par.name)\n",
    "\n",
    "        for var in par.variables:                  # For each variable of that particle\n",
    "\n",
    "            # Reset\n",
    "            found_reco=False\n",
    "            found_truth=False\n",
    "\n",
    "            # Get all the possible names for this variable\n",
    "            alt_var_names = list(var.alt_names)\n",
    "            alt_var_names.append(var.name)\n",
    "\n",
    "            for (par_name,var_name) in list(itertools.product(alt_par_names,alt_var_names)):\n",
    "                if 'klfitter_bestPerm_'+par_name+'_'+var_name in keys:\n",
    "                    df['reco_'+par.name+'_'+var.name] = ak.to_pandas(tree['klfitter_bestPerm_'+par_name+'_'+var_name])      # Append the reco values\n",
    "                    found_reco=True\n",
    "                if 'klfitter_bestPerm_'+var_name in keys: # (particularly, chi_tt)\n",
    "                    df['reco_'+par.name+'_'+var.name] = ak.to_pandas(tree['klfitter_bestPerm_'+var_name])      # Append the reco values\n",
    "                    found_reco=True\n",
    "                if 'MC_'+par_name+'_afterFSR_'+var_name in keys:\n",
    "                    df['truth_'+par.name+'_'+var.name] = ak.to_pandas(tree['MC_'+par_name+'_afterFSR_'+var_name])    # Append the true values\n",
    "                    found_truth=True\n",
    "                if 'MC_'+var_name in keys:  # (particularly, chi_tt)\n",
    "                    df['truth_'+par.name+'_'+var.name] = ak.to_pandas(tree['MC_'+var_name])\n",
    "                    found_truth = True\n",
    "                # if 'MC_'+par_name+var_name in keys: # (in particular, for Pout)\n",
    "                #     df['truth_'+par.name+'_'+var.name] = ak.to_pandas(tree['MC_'+par_name+var_name])    # Append the true values\n",
    "                #     found_truth=True\n",
    "\n",
    "                # Stop looking for the correct names once we find them\n",
    "                if found_reco and found_truth:\n",
    "                    break\n",
    "\n",
    "    for level in ['truth','reco']:\n",
    "\n",
    "        # ttbar Ht\n",
    "        df[level+'_ttbar_Ht'] = df[level+'_th_pt']+df[level+'_tl_pt']\n",
    "\n",
    "        # ttbar dphi\n",
    "        th_vec = vector.arr({\"pt\": df[level+'_th_pt'], \"phi\": df[level+'_th_phi'], \"eta\": df[level+'_th_eta'],\"mass\": df[level+'_th_m']})\n",
    "        tl_vec = vector.arr({\"pt\": df[level+'_tl_pt'], \"phi\": df[level+'_tl_phi'], \"eta\": df[level+'_tl_eta'],\"mass\": df[level+'_tl_m']}) \n",
    "        df[level+'_ttbar_dphi'] = abs(th_vec.deltaphi(tl_vec))\n",
    "\n",
    "        # ttbar yboost and ystar\n",
    "        df[level+'_ttbar_yboost'] = 0.5*(df[level+'_th_y']+df[level+'_tl_y'])\n",
    "        #df[level+'_ttbar_ystar'] = 0.5*(df[level+'_th_y']-df[level+'_tl_y'])\n",
    "\n",
    "    for par in [top_had,top_lep,top_antitop]:           # For each particle\n",
    "        for var in par.variables:    # For each variable of that particle\n",
    "        \n",
    "            # Convert from MeV to GeV for some truth values\n",
    "            if var.name in ['pt','m','E','pout','Ht']:  \n",
    "                df['truth_'+par.name+'_'+var.name] = df['truth_'+par.name+'_'+var.name]/1000\n",
    "\n",
    "\n",
    "    new_df = pd.concat([new_df,df],axis=0,ignore_index=True)\n",
    "\n",
    "\n",
    "print(new_df)\n",
    "    "
   ]
  },
  {
   "cell_type": "code",
   "execution_count": 6,
   "metadata": {},
   "outputs": [],
   "source": [
    "df = new_df\n",
    "\n",
    "df['ttbar_pt_res'] = (df['reco_ttbar_pt'] - df['truth_ttbar_pt'])/df['truth_ttbar_pt']\n",
    "\n",
    "cut_df = df[df['logLikelihood']>-52]"
   ]
  },
  {
   "cell_type": "code",
   "execution_count": 9,
   "metadata": {},
   "outputs": [
    {
     "data": {
      "image/png": "[encoded data removed]",
      "text/plain": [
       "<Figure size 432x288 with 1 Axes>"
      ]
     },
     "metadata": {
      "needs_background": "light"
     },
     "output_type": "display_data"
    }
   ],
   "source": [
    "plt.hist(df['ttbar_pt_res'],range=(-1,1),bins=20,histtype='step',label='no cut: stdev='+str(df['ttbar_pt_res'].std()),density=False)\n",
    "plt.hist(cut_df['ttbar_pt_res'],range=(-1,1),bins=20,histtype='step',label='LL>-52: stdev='+str(cut_df['ttbar_pt_res'].std()),density=False)\n",
    "plt.legend()\n",
    "plt.show()"
   ]
  },
  {
   "cell_type": "code",
   "execution_count": 8,
   "metadata": {},
   "outputs": [
    {
     "name": "stderr",
     "output_type": "stream",
     "text": [
      "/tmp/ipykernel_577335/849659070.py:2: UserWarning: Boolean Series key will be reindexed to match DataFrame index.\n",
      "  temp_df = df[df['truth_ttbar_pt']<pt+30][df['truth_ttbar_pt']>=pt-30]\n",
      "/tmp/ipykernel_577335/849659070.py:3: UserWarning: Boolean Series key will be reindexed to match DataFrame index.\n",
      "  temp_cut_df = cut_df[cut_df['truth_ttbar_pt']<pt+30][cut_df['truth_ttbar_pt']>=pt-30]\n"
     ]
    },
    {
     "data": {
      "image/png": "[encoded data removed]",
      "text/plain": [
       "<Figure size 432x288 with 1 Axes>"
      ]
     },
     "metadata": {
      "needs_background": "light"
     },
     "output_type": "display_data"
    },
    {
     "name": "stderr",
     "output_type": "stream",
     "text": [
      "/tmp/ipykernel_577335/849659070.py:2: UserWarning: Boolean Series key will be reindexed to match DataFrame index.\n",
      "  temp_df = df[df['truth_ttbar_pt']<pt+30][df['truth_ttbar_pt']>=pt-30]\n",
      "/tmp/ipykernel_577335/849659070.py:3: UserWarning: Boolean Series key will be reindexed to match DataFrame index.\n",
      "  temp_cut_df = cut_df[cut_df['truth_ttbar_pt']<pt+30][cut_df['truth_ttbar_pt']>=pt-30]\n"
     ]
    },
    {
     "data": {
      "image/png": "[encoded data removed]",
      "text/plain": [
       "<Figure size 432x288 with 1 Axes>"
      ]
     },
     "metadata": {
      "needs_background": "light"
     },
     "output_type": "display_data"
    },
    {
     "name": "stderr",
     "output_type": "stream",
     "text": [
      "/tmp/ipykernel_577335/849659070.py:2: UserWarning: Boolean Series key will be reindexed to match DataFrame index.\n",
      "  temp_df = df[df['truth_ttbar_pt']<pt+30][df['truth_ttbar_pt']>=pt-30]\n",
      "/tmp/ipykernel_577335/849659070.py:3: UserWarning: Boolean Series key will be reindexed to match DataFrame index.\n",
      "  temp_cut_df = cut_df[cut_df['truth_ttbar_pt']<pt+30][cut_df['truth_ttbar_pt']>=pt-30]\n"
     ]
    },
    {
     "data": {
      "image/png": "[encoded data removed]",
      "text/plain": [
       "<Figure size 432x288 with 1 Axes>"
      ]
     },
     "metadata": {
      "needs_background": "light"
     },
     "output_type": "display_data"
    },
    {
     "name": "stderr",
     "output_type": "stream",
     "text": [
      "/tmp/ipykernel_577335/849659070.py:2: UserWarning: Boolean Series key will be reindexed to match DataFrame index.\n",
      "  temp_df = df[df['truth_ttbar_pt']<pt+30][df['truth_ttbar_pt']>=pt-30]\n",
      "/tmp/ipykernel_577335/849659070.py:3: UserWarning: Boolean Series key will be reindexed to match DataFrame index.\n",
      "  temp_cut_df = cut_df[cut_df['truth_ttbar_pt']<pt+30][cut_df['truth_ttbar_pt']>=pt-30]\n"
     ]
    },
    {
     "data": {
      "image/png": "[encoded data removed]",
      "text/plain": [
       "<Figure size 432x288 with 1 Axes>"
      ]
     },
     "metadata": {
      "needs_background": "light"
     },
     "output_type": "display_data"
    },
    {
     "name": "stderr",
     "output_type": "stream",
     "text": [
      "/tmp/ipykernel_577335/849659070.py:2: UserWarning: Boolean Series key will be reindexed to match DataFrame index.\n",
      "  temp_df = df[df['truth_ttbar_pt']<pt+30][df['truth_ttbar_pt']>=pt-30]\n",
      "/tmp/ipykernel_577335/849659070.py:3: UserWarning: Boolean Series key will be reindexed to match DataFrame index.\n",
      "  temp_cut_df = cut_df[cut_df['truth_ttbar_pt']<pt+30][cut_df['truth_ttbar_pt']>=pt-30]\n"
     ]
    },
    {
     "data": {
      "image/png": "[encoded data removed]",
      "text/plain": [
       "<Figure size 432x288 with 1 Axes>"
      ]
     },
     "metadata": {
      "needs_background": "light"
     },
     "output_type": "display_data"
    },
    {
     "name": "stderr",
     "output_type": "stream",
     "text": [
      "/tmp/ipykernel_577335/849659070.py:2: UserWarning: Boolean Series key will be reindexed to match DataFrame index.\n",
      "  temp_df = df[df['truth_ttbar_pt']<pt+30][df['truth_ttbar_pt']>=pt-30]\n",
      "/tmp/ipykernel_577335/849659070.py:3: UserWarning: Boolean Series key will be reindexed to match DataFrame index.\n",
      "  temp_cut_df = cut_df[cut_df['truth_ttbar_pt']<pt+30][cut_df['truth_ttbar_pt']>=pt-30]\n"
     ]
    },
    {
     "data": {
      "image/png": "[encoded data removed]",
      "text/plain": [
       "<Figure size 432x288 with 1 Axes>"
      ]
     },
     "metadata": {
      "needs_background": "light"
     },
     "output_type": "display_data"
    },
    {
     "name": "stderr",
     "output_type": "stream",
     "text": [
      "/tmp/ipykernel_577335/849659070.py:2: UserWarning: Boolean Series key will be reindexed to match DataFrame index.\n",
      "  temp_df = df[df['truth_ttbar_pt']<pt+30][df['truth_ttbar_pt']>=pt-30]\n",
      "/tmp/ipykernel_577335/849659070.py:3: UserWarning: Boolean Series key will be reindexed to match DataFrame index.\n",
      "  temp_cut_df = cut_df[cut_df['truth_ttbar_pt']<pt+30][cut_df['truth_ttbar_pt']>=pt-30]\n"
     ]
    },
    {
     "data": {
      "image/png": "[encoded data removed]",
      "text/plain": [
       "<Figure size 432x288 with 1 Axes>"
      ]
     },
     "metadata": {
      "needs_background": "light"
     },
     "output_type": "display_data"
    },
    {
     "name": "stderr",
     "output_type": "stream",
     "text": [
      "/tmp/ipykernel_577335/849659070.py:2: UserWarning: Boolean Series key will be reindexed to match DataFrame index.\n",
      "  temp_df = df[df['truth_ttbar_pt']<pt+30][df['truth_ttbar_pt']>=pt-30]\n",
      "/tmp/ipykernel_577335/849659070.py:3: UserWarning: Boolean Series key will be reindexed to match DataFrame index.\n",
      "  temp_cut_df = cut_df[cut_df['truth_ttbar_pt']<pt+30][cut_df['truth_ttbar_pt']>=pt-30]\n"
     ]
    },
    {
     "data": {
      "image/png": "[encoded data removed]",
      "text/plain": [
       "<Figure size 432x288 with 1 Axes>"
      ]
     },
     "metadata": {
      "needs_background": "light"
     },
     "output_type": "display_data"
    },
    {
     "name": "stderr",
     "output_type": "stream",
     "text": [
      "/tmp/ipykernel_577335/849659070.py:2: UserWarning: Boolean Series key will be reindexed to match DataFrame index.\n",
      "  temp_df = df[df['truth_ttbar_pt']<pt+30][df['truth_ttbar_pt']>=pt-30]\n",
      "/tmp/ipykernel_577335/849659070.py:3: UserWarning: Boolean Series key will be reindexed to match DataFrame index.\n",
      "  temp_cut_df = cut_df[cut_df['truth_ttbar_pt']<pt+30][cut_df['truth_ttbar_pt']>=pt-30]\n"
     ]
    },
    {
     "data": {
      "image/png": "[encoded data removed]",
      "text/plain": [
       "<Figure size 432x288 with 1 Axes>"
      ]
     },
     "metadata": {
      "needs_background": "light"
     },
     "output_type": "display_data"
    },
    {
     "name": "stderr",
     "output_type": "stream",
     "text": [
      "/tmp/ipykernel_577335/849659070.py:2: UserWarning: Boolean Series key will be reindexed to match DataFrame index.\n",
      "  temp_df = df[df['truth_ttbar_pt']<pt+30][df['truth_ttbar_pt']>=pt-30]\n",
      "/tmp/ipykernel_577335/849659070.py:3: UserWarning: Boolean Series key will be reindexed to match DataFrame index.\n",
      "  temp_cut_df = cut_df[cut_df['truth_ttbar_pt']<pt+30][cut_df['truth_ttbar_pt']>=pt-30]\n"
     ]
    },
    {
     "data": {
      "image/png": "[encoded data removed]",
      "text/plain": [
       "<Figure size 432x288 with 1 Axes>"
      ]
     },
     "metadata": {
      "needs_background": "light"
     },
     "output_type": "display_data"
    }
   ],
   "source": [
    "for pt in [105,135,165,195,225,255,285,315,345,375]:\n",
    "    temp_df = df[df['truth_ttbar_pt']<pt+30][df['truth_ttbar_pt']>=pt-30]\n",
    "    temp_cut_df = cut_df[cut_df['truth_ttbar_pt']<pt+30][cut_df['truth_ttbar_pt']>=pt-30]\n",
    "    plt.hist(temp_df['ttbar_pt_res'],range=(-1,1),bins=20,histtype='step',label='no cut: stdev='+str(temp_df['ttbar_pt_res'].std()),density=False)\n",
    "    plt.hist(temp_cut_df['ttbar_pt_res'],range=(-1,1),bins=20,histtype='step',label='LL>-52: stdev='+str(temp_cut_df['ttbar_pt_res'].std()),density=False)\n",
    "    plt.legend()\n",
    "    plt.title('pt='+str(pt)+' +/- 30')\n",
    "    plt.xlabel('resolution')\n",
    "    plt.show()"
   ]
  },
  {
   "cell_type": "code",
   "execution_count": 17,
   "metadata": {},
   "outputs": [
    {
     "data": {
      "text/html": [
       "<div>\n",
       "<style scoped>\n",
       "    .dataframe tbody tr th:only-of-type {\n",
       "        vertical-align: middle;\n",
       "    }\n",
       "\n",
       "    .dataframe tbody tr th {\n",
       "        vertical-align: top;\n",
       "    }\n",
       "\n",
       "    .dataframe thead th {\n",
       "        text-align: right;\n",
       "    }\n",
       "</style>\n",
       "<table border=\"1\" class=\"dataframe\">\n",
       "  <thead>\n",
       "    <tr style=\"text-align: right;\">\n",
       "      <th></th>\n",
       "      <th>reco_ttbar_pt</th>\n",
       "      <th>truth_ttbar_pt</th>\n",
       "      <th>ttbar_pt_res</th>\n",
       "    </tr>\n",
       "  </thead>\n",
       "  <tbody>\n",
       "    <tr>\n",
       "      <th>3930</th>\n",
       "      <td>4.049991</td>\n",
       "      <td>561.671631</td>\n",
       "      <td>-0.992789</td>\n",
       "    </tr>\n",
       "    <tr>\n",
       "      <th>9092</th>\n",
       "      <td>0.257899</td>\n",
       "      <td>72.798698</td>\n",
       "      <td>-0.996457</td>\n",
       "    </tr>\n",
       "    <tr>\n",
       "      <th>9470</th>\n",
       "      <td>0.680678</td>\n",
       "      <td>136.896896</td>\n",
       "      <td>-0.995028</td>\n",
       "    </tr>\n",
       "    <tr>\n",
       "      <th>11807</th>\n",
       "      <td>4.091174</td>\n",
       "      <td>434.599365</td>\n",
       "      <td>-0.990586</td>\n",
       "    </tr>\n",
       "    <tr>\n",
       "      <th>22065</th>\n",
       "      <td>2.855190</td>\n",
       "      <td>317.659454</td>\n",
       "      <td>-0.991012</td>\n",
       "    </tr>\n",
       "    <tr>\n",
       "      <th>...</th>\n",
       "      <td>...</td>\n",
       "      <td>...</td>\n",
       "      <td>...</td>\n",
       "    </tr>\n",
       "    <tr>\n",
       "      <th>7276840</th>\n",
       "      <td>1.588359</td>\n",
       "      <td>214.288010</td>\n",
       "      <td>-0.992588</td>\n",
       "    </tr>\n",
       "    <tr>\n",
       "      <th>7279178</th>\n",
       "      <td>1.344564</td>\n",
       "      <td>577.507080</td>\n",
       "      <td>-0.997672</td>\n",
       "    </tr>\n",
       "    <tr>\n",
       "      <th>7282849</th>\n",
       "      <td>2.583744</td>\n",
       "      <td>381.186157</td>\n",
       "      <td>-0.993222</td>\n",
       "    </tr>\n",
       "    <tr>\n",
       "      <th>7284517</th>\n",
       "      <td>3.181655</td>\n",
       "      <td>540.770813</td>\n",
       "      <td>-0.994116</td>\n",
       "    </tr>\n",
       "    <tr>\n",
       "      <th>7294268</th>\n",
       "      <td>4.313226</td>\n",
       "      <td>455.726776</td>\n",
       "      <td>-0.990535</td>\n",
       "    </tr>\n",
       "  </tbody>\n",
       "</table>\n",
       "<p>2265 rows × 3 columns</p>\n",
       "</div>"
      ],
      "text/plain": [
       "         reco_ttbar_pt  truth_ttbar_pt  ttbar_pt_res\n",
       "3930          4.049991      561.671631     -0.992789\n",
       "9092          0.257899       72.798698     -0.996457\n",
       "9470          0.680678      136.896896     -0.995028\n",
       "11807         4.091174      434.599365     -0.990586\n",
       "22065         2.855190      317.659454     -0.991012\n",
       "...                ...             ...           ...\n",
       "7276840       1.588359      214.288010     -0.992588\n",
       "7279178       1.344564      577.507080     -0.997672\n",
       "7282849       2.583744      381.186157     -0.993222\n",
       "7284517       3.181655      540.770813     -0.994116\n",
       "7294268       4.313226      455.726776     -0.990535\n",
       "\n",
       "[2265 rows x 3 columns]"
      ]
     },
     "execution_count": 17,
     "metadata": {},
     "output_type": "execute_result"
    }
   ],
   "source": [
    "# Cut on log-likelihood (if desired)\n",
    "df[['reco_ttbar_pt','truth_ttbar_pt','ttbar_pt_res']][df['ttbar_pt_res']<-0.99]"
   ]
  },
  {
   "cell_type": "code",
   "execution_count": 10,
   "metadata": {},
   "outputs": [
    {
     "data": {
      "image/png": "[encoded data removed]",
      "text/plain": [
       "<Figure size 432x288 with 1 Axes>"
      ]
     },
     "metadata": {
      "needs_background": "light"
     },
     "output_type": "display_data"
    },
    {
     "data": {
      "image/png": "[encoded data removed]",
      "text/plain": [
       "<Figure size 432x288 with 2 Axes>"
      ]
     },
     "metadata": {
      "needs_background": "light"
     },
     "output_type": "display_data"
    }
   ],
   "source": [
    "\n",
    "\n",
    "# Define a useful string\n",
    "name ='th_pt'\n",
    "\n",
    "# Define useful constants\n",
    "tk = pt.ticks\n",
    "tkls = pt.tick_labels\n",
    "n = len(tk)\n",
    "ran = tk[::n-1]\n",
    "\n",
    "\n",
    "# Create 2D array of truth vs reco variable (which can be plotted also)\n",
    "H, _, _, _ = plt.hist2d(np.clip(cut_df['truth_th_pt'],tk[0],tk[-1]),np.clip(cut_df['reco_th_pt'],tk[0],tk[-1]),bins=tk,range=[ran,ran])\n",
    "\n",
    "# Normalize across rows (if desired)\n",
    "if True:\n",
    "    H = (H/np.sum(H,axis=0))*100\n",
    "        \n",
    "    # Round to integers (and transpose, so it's where we need it for plotting later)\n",
    "    cm = np.rint(H).T.astype(int)\n",
    "\n",
    "    # Plot truth vs reco pt with normalized rowsx\n",
    "    plt.figure(' Normalized 2D Plot')\n",
    "    masked_cm = np.ma.masked_where(cm==0,cm)  # Needed to make the zero bins white\n",
    "    plt.imshow(masked_cm,extent=[0,n-1,0,n-1],cmap=plt.cm.Blues,origin='lower')\n",
    "    plt.xticks(np.arange(n),tkls,fontsize=9,rotation=-25)\n",
    "    plt.yticks(np.arange(n),tkls,fontsize=9)\n",
    "    plt.xlabel('Reco-level '+top_had.labels[pt.name])\n",
    "    plt.ylabel('Parton-level '+top_had.labels[pt.name])\n",
    "    if True: plt.clim(0,100)\n",
    "    plt.colorbar()\n",
    "\n",
    "    # Label the content of each bin\n",
    "    for j in range (n-1):\n",
    "        for k in range(n-1):\n",
    "            if masked_cm.T[j,k] != 0:   # Don't label empty bins\n",
    "                plt.text(j+0.5,k+0.5,masked_cm.T[j,k],color='k',fontsize=6,weight=\"bold\",ha=\"center\",va=\"center\")\n",
    "\n",
    "plt.savefig('p.png')\n",
    "plt.show()\n",
    "\n",
    "\n"
   ]
  },
  {
   "cell_type": "code",
   "execution_count": 20,
   "metadata": {},
   "outputs": [
    {
     "name": "stdout",
     "output_type": "stream",
     "text": [
      "Saved Figure: ./KLFitter(LL>-52)_Confusion_Matrix_e+mjets_th_pt\n"
     ]
    },
    {
     "data": {
      "image/png": "[encoded data removed]",
      "text/plain": [
       "<Figure size 432x288 with 1 Axes>"
      ]
     },
     "metadata": {
      "needs_background": "light"
     },
     "output_type": "display_data"
    }
   ],
   "source": [
    "Plot.Confusion_Matrix(Dataset(new_df,'KLFitter','e+mjets'),top_had,pt,norm=True,LL_cut=-52)"
   ]
  },
  {
   "cell_type": "code",
   "execution_count": null,
   "metadata": {},
   "outputs": [],
   "source": []
  },
  {
   "cell_type": "code",
   "execution_count": null,
   "metadata": {},
   "outputs": [],
   "source": []
  },
  {
   "cell_type": "code",
   "execution_count": 28,
   "metadata": {},
   "outputs": [
    {
     "name": "stdout",
     "output_type": "stream",
     "text": [
      "hello\n",
      "[['0' 'b_from_thad' '3' '5' '0.16305398468389243' '0.14924280163395437']\n",
      " ['0' 'b_from_tlep' '1' '5' '0.09748300785563324' '0.12458928657056526']\n",
      " ['0' 'Wdecay1_from_thad' '2' '3' '0.05495748855708394'\n",
      "  '0.1976284468305962']\n",
      " ...\n",
      " ['981009' 'b_from_thad' '3' '5' '0.017625695056231065'\n",
      "  '0.053510154694444735']\n",
      " ['981009' 'b_from_tlep' '1' '5' '0.019853151295494784'\n",
      "  '0.06433950273863867']\n",
      " ['981009' 'Wdecay1_from_thad' '4' '1' '0.03302693277796143'\n",
      "  '-0.2689318825303864']]\n",
      "For new dR<0.4 matching:\n",
      "--------------------\n",
      "Total number of events:  981010\n",
      "Number of matched pairs:  3363471\n",
      "Percentage of matches with dR<0.4: 85.714493%\n",
      "Percentage of these successful matches (i.e. dR < 0.4) that have frac pt > -1: 99.840135%\n",
      "Percentage of matches with dR<0.4 AND fractional $\\Delta p_T$ > -1: 85.577466%\n",
      "Percentage of matches with dR<0.4 AND fractional $\\Delta p_T$ < -1: 0.137027%\n",
      "\n"
     ]
    }
   ],
   "source": [
    "# Matching info for dR < 0.4 cut\n",
    "# match_data04 = np.array(np.load('/data/jchishol/mc16e/matching_info/matching_info_0_parton_ejets0d4_new.npy'))\n",
    "# event_indices04 = match_data04[:,0].astype(int)\n",
    "# best_jets04 = match_data04[:,1].astype(int)\n",
    "# matched_pars04 = match_data04[:,2]\n",
    "# dRs04 = match_data04[:,3].astype(float)\n",
    "# frac_delta_pts04 = match_data04[:,4].astype(float)\n",
    "# num_events04 = len(parton_tree04['eventNumber'])\n",
    "# num_matched04 = len(dRs04)\n",
    "\n",
    "# print('For new dR<0.4 matching:')\n",
    "# print('--------------------')\n",
    "# print('Total number of events: ', num_events04)\n",
    "# print('Number of matched pairs: ', num_matched04)\n",
    "# print('Percentage of matches with dR<0.4: %f%%' % (100*num_matched04/(4*num_events04)))\n",
    "# print('Percentage of these successful matches (i.e. dR < 0.4) that have frac pt > -1: %f%%' % (100*len(frac_delta_pts04[frac_delta_pts04>-1])/num_matched04))\n",
    "# print('Percentage of matches with dR<0.4 AND fractional $\\Delta p_T$ > -1: %f%%' % (100*len(frac_delta_pts04[frac_delta_pts04>-1])/(4*num_events04)))\n",
    "# print('Percentage of matches with dR<0.4 AND fractional $\\Delta p_T$ < -1: %f%%\\n' % (100*len(frac_delta_pts04[frac_delta_pts04<-1])/(4*num_events04)))\n",
    "\n",
    "\n",
    "# # Matching info for dR < 0.46cut\n",
    "# match_data06 = np.array(np.load('/data/jchishol/mc16e/matching_info/matching_info_0_parton_ejets0d6.npy'))\n",
    "# event_indices06 = match_data06[:,0].astype(int)\n",
    "# best_jets06 = match_data06[:,1].astype(int)\n",
    "# matched_pars06 = match_data06[:,2]\n",
    "# dRs06 = match_data06[:,3].astype(float)\n",
    "# frac_delta_pts06 = match_data06[:,4].astype(float)\n",
    "# num_events06 = len(parton_tree06['eventNumber'])\n",
    "# num_matched06 = len(dRs06)\n",
    "\n",
    "# print('For new dR<0.6 matching:')\n",
    "# print('--------------------')\n",
    "# print('Total number of events: ', num_events06)\n",
    "# print('Number of matched pairs: ', num_matched06)\n",
    "# print('Percentage of matches with dR<0.6: %f%%' % (100*num_matched06/(4*num_events06)))\n",
    "# print('Percentage of these successful matches (i.e. dR < 0.6) that have frac pt > -1: %f%%' % (100*len(frac_delta_pts06[frac_delta_pts06>-1])/num_matched06))\n",
    "# print('Percentage of matches with dR<0.6 AND fractional $\\Delta p_T$ > -1: %f%%' % (100*len(frac_delta_pts06[frac_delta_pts06>-1])/(4*num_events06)))\n",
    "# print('Percentage of matches with dR<0.6 AND fractional $\\Delta p_T$ < -1: %f%%\\n' % (100*len(frac_delta_pts06[frac_delta_pts06<-1])/(4*num_events06)))\n",
    "\n",
    "\n",
    "\n",
    "# Matching info for new dR < 0.4 cut\n",
    "match_data04 = np.array(np.load('/data/jchishol/mc1516_new/matching_info/matching_info_mntuple_ljets_05_jetMatch04.npy'))\n",
    "event_indices04 = match_data04[:,0].astype(int)\n",
    "matched_pars04 = match_data04[:,1]\n",
    "best_jets04 = match_data04[:,2].astype(int)\n",
    "best_quarks04 = match_data04[:,3].astype(int)\n",
    "dRs04 = match_data04[:,4].astype(float)\n",
    "frac_delta_pts04 = match_data04[:,5].astype(float)\n",
    "num_events04 = len(nom_tree['eventNumber'])\n",
    "num_matched04 = len(dRs04)\n",
    "\n",
    "\n",
    "print('For new dR<0.4 matching:')\n",
    "print('--------------------')\n",
    "print('Total number of events: ', num_events04)\n",
    "print('Number of matched pairs: ', num_matched04)\n",
    "print('Percentage of matches with dR<0.4: %f%%' % (100*num_matched04/(4*num_events04)))\n",
    "print('Percentage of these successful matches (i.e. dR < 0.4) that have frac pt > -1: %f%%' % (100*len(frac_delta_pts04[frac_delta_pts04>-1])/num_matched04))\n",
    "print('Percentage of matches with dR<0.4 AND fractional $\\Delta p_T$ > -1: %f%%' % (100*len(frac_delta_pts04[frac_delta_pts04>-1])/(4*num_events04)))\n",
    "print('Percentage of matches with dR<0.4 AND fractional $\\Delta p_T$ < -1: %f%%\\n' % (100*len(frac_delta_pts04[frac_delta_pts04<-1])/(4*num_events04)))"
   ]
  },
  {
   "cell_type": "code",
   "execution_count": 43,
   "metadata": {},
   "outputs": [
    {
     "name": "stdout",
     "output_type": "stream",
     "text": [
      "[[0, 1, 1, 1, 0, 1], [1, 1, 1, 0, 1], [1, ... 0], [1, 1, 1, 0], [0, 1, 0, 1, 1, 0]]\n",
      "[[0 1 1 1 0 1]\n",
      " [1 1 1 0 1 0]\n",
      " [1 1 1 1 0 0]\n",
      " ...\n",
      " [0 1 1 1 1 0]\n",
      " [1 1 1 0 0 0]\n",
      " [0 1 0 1 1 0]]\n"
     ]
    }
   ],
   "source": [
    "print(nom_tree['jet_isTruth'])\n",
    "padded_matches = np.asarray(ak.fill_none(ak.pad_none(nom_tree['jet_isTruth'], 6, clip=True), 0))\n",
    "print(padded_matches)"
   ]
  },
  {
   "cell_type": "code",
   "execution_count": 29,
   "metadata": {},
   "outputs": [
    {
     "name": "stdout",
     "output_type": "stream",
     "text": [
      "96.8615457068011\n"
     ]
    }
   ],
   "source": [
    "print((100*len(frac_delta_pts04[abs(frac_delta_pts04)<=0.5])/(num_matched04)))"
   ]
  },
  {
   "cell_type": "code",
   "execution_count": 30,
   "metadata": {},
   "outputs": [
    {
     "data": {
      "image/png": "[encoded data removed]",
      "text/plain": [
       "<Figure size 432x288 with 1 Axes>"
      ]
     },
     "metadata": {
      "needs_background": "light"
     },
     "output_type": "display_data"
    },
    {
     "data": {
      "image/png": "[encoded data removed]",
      "text/plain": [
       "<Figure size 432x288 with 1 Axes>"
      ]
     },
     "metadata": {
      "needs_background": "light"
     },
     "output_type": "display_data"
    },
    {
     "data": {
      "image/png": "[encoded data removed]",
      "text/plain": [
       "<Figure size 432x288 with 2 Axes>"
      ]
     },
     "metadata": {
      "needs_background": "light"
     },
     "output_type": "display_data"
    }
   ],
   "source": [
    "plt.figure('dR')\n",
    "#plt.hist(dRs06,bins=30,range=(0,0.6),label='dR < 0.6',density=True,histtype='step')\n",
    "plt.hist(dRs04,bins=30,range=(0,0.4),label='dR < 0.4',histtype='step')\n",
    "plt.xlabel('dR')\n",
    "plt.ylabel('Counts')\n",
    "plt.legend()\n",
    "\n",
    "\n",
    "plt.figure('frac_delta_pt')\n",
    "#plt.hist(frac_delta_pts06,bins=30,range=(-1,1),label='dR < 0.6',density=True,histtype='step')\n",
    "plt.hist(frac_delta_pts04,bins=30,range=(-1,1),label='dR < 0.4',histtype='step')\n",
    "plt.xlabel('Fractional $\\Delta p_T$')\n",
    "plt.ylabel('Counts')\n",
    "plt.legend()\n",
    "\n",
    "\n",
    "\n",
    "plt.figure('2D')\n",
    "plt.hist2d(dRs04,frac_delta_pts04,bins=(100,100),range=((0,0.4),(-1,1)))\n",
    "plt.xlabel('dRs')\n",
    "plt.ylabel('Fractional $\\Delta p_T$')\n",
    "plt.colorbar()\n",
    "\n",
    "\n",
    "plt.show()"
   ]
  },
  {
   "cell_type": "code",
   "execution_count": 31,
   "metadata": {},
   "outputs": [
    {
     "name": "stdout",
     "output_type": "stream",
     "text": [
      "For dR < 0.4 matching:\n",
      "----------------------\n",
      "All data:\n",
      "          Event             Parent  Quark  Jet     dR  frac delta pt\n",
      "0             0        b_from_thad      5    3  0.163          0.149\n",
      "1             0        b_from_tlep      5    1  0.097          0.125\n",
      "2             0  Wdecay1_from_thad      3    2  0.055          0.198\n",
      "3             0  Wdecay2_from_thad      4    5  0.369          0.489\n",
      "4             1        b_from_thad      5    2  0.074          0.343\n",
      "5             1        b_from_tlep      5    1  0.025         -0.337\n",
      "6             1  Wdecay1_from_thad      2    0  0.017          0.020\n",
      "7             1  Wdecay2_from_thad      1    4  0.053          0.159\n",
      "8             2        b_from_thad      5    0  0.027         -0.104\n",
      "9             2        b_from_tlep      5    2  0.017         -0.071\n",
      "10            2  Wdecay1_from_thad      1    3  0.035          0.027\n",
      "11            2  Wdecay2_from_thad      2    1  0.042          0.196\n",
      "12            3        b_from_thad      5    1  0.006          0.052\n",
      "13            3        b_from_tlep      5    0  0.094          0.223\n",
      "14            3  Wdecay1_from_thad      3    2  0.161          0.252\n",
      "15            3  Wdecay2_from_thad      4    3  0.028         -0.355\n",
      "16            4        b_from_thad      5    3  0.018          0.048\n",
      "17            4        b_from_tlep      5    1  0.041          0.120\n",
      "18            4  Wdecay2_from_thad      1    0  0.076          0.005\n",
      "19            5        b_from_thad      5    2  0.071          0.015\n",
      "20            5        b_from_tlep      5    1  0.020          0.006\n",
      "21            5  Wdecay2_from_thad      2    0  0.017         -0.077\n",
      "22            6        b_from_thad      5    0  0.024          0.000\n",
      "23            6  Wdecay1_from_thad      4    1  0.088         -0.143\n",
      "24            6  Wdecay2_from_thad      3    4  0.018          0.215\n",
      "...         ...                ...    ...  ...    ...            ...\n",
      "3363446  981002        b_from_tlep      5    2  0.098          0.015\n",
      "3363447  981002  Wdecay1_from_thad      2    1  0.010          0.056\n",
      "3363448  981002  Wdecay2_from_thad      1    3  0.168          0.248\n",
      "3363449  981003        b_from_thad      5    1  0.030          0.339\n",
      "3363450  981003        b_from_tlep      5    0  0.004         -0.006\n",
      "3363451  981003  Wdecay2_from_thad      4    3  0.159         -0.042\n",
      "3363452  981004        b_from_thad      5    3  0.021         -0.050\n",
      "3363453  981004        b_from_tlep      5    2  0.013          0.161\n",
      "3363454  981004  Wdecay1_from_thad      2    1  0.013         -0.164\n",
      "3363455  981004  Wdecay2_from_thad      1    0  0.016          0.025\n",
      "3363456  981005        b_from_thad      5    2  0.013          0.064\n",
      "3363457  981005        b_from_tlep      5    1  0.036          0.298\n",
      "3363458  981005  Wdecay2_from_thad      1    3  0.025          0.080\n",
      "3363459  981006        b_from_thad      5    3  0.392          0.593\n",
      "3363460  981006        b_from_tlep      5    1  0.014         -0.063\n",
      "3363461  981007        b_from_thad      5    1  0.017          0.036\n",
      "3363462  981007        b_from_tlep      5    4  0.009          0.192\n",
      "3363463  981007  Wdecay1_from_thad      1    3  0.048         -0.484\n",
      "3363464  981007  Wdecay2_from_thad      2    2  0.025         -0.174\n",
      "3363465  981008        b_from_thad      5    1  0.047         -0.182\n",
      "3363466  981008        b_from_tlep      5    2  0.023          0.287\n",
      "3363467  981008  Wdecay2_from_thad      2    0  0.007          0.025\n",
      "3363468  981009        b_from_thad      5    3  0.018          0.054\n",
      "3363469  981009        b_from_tlep      5    1  0.020          0.064\n",
      "3363470  981009  Wdecay1_from_thad      1    4  0.033         -0.269\n",
      "\n",
      "[3363471 rows x 6 columns]\n",
      "Not great matches:\n",
      "          Event             Parent  Quark  Jet     dR  frac delta pt\n",
      "321          92  Wdecay2_from_thad      2    4  0.047         -1.091\n",
      "981         285  Wdecay2_from_thad      1    2  0.107         -1.177\n",
      "1115        324        b_from_tlep      5    3  0.156         -1.292\n",
      "1151        333  Wdecay2_from_thad      2    3  0.118         -1.478\n",
      "1430        413  Wdecay1_from_thad      2    2  0.142         -1.289\n",
      "2221        644  Wdecay1_from_thad      4    1  0.130         -1.402\n",
      "3081        900        b_from_tlep      5    1  0.382         -1.459\n",
      "3132        916        b_from_tlep      5    2  0.312         -1.226\n",
      "3923       1144  Wdecay2_from_thad      4    0  0.200         -1.004\n",
      "4010       1168  Wdecay1_from_thad      3    0  0.207         -1.249\n",
      "4784       1396  Wdecay2_from_thad      2    1  0.122         -1.300\n",
      "4839       1412  Wdecay2_from_thad      1    0  0.088         -1.109\n",
      "4942       1441        b_from_thad      5    1  0.219         -2.044\n",
      "5174       1510  Wdecay1_from_thad      1    2  0.124         -1.033\n",
      "7668       2242  Wdecay2_from_thad      1    1  0.082         -1.015\n",
      "8048       2355  Wdecay1_from_thad      3    3  0.366         -2.153\n",
      "8505       2494        b_from_thad      5    2  0.349         -1.260\n",
      "9293       2723  Wdecay1_from_thad      3    2  0.303         -1.034\n",
      "9323       2731  Wdecay2_from_thad      4    2  0.157         -1.339\n",
      "9814       2874        b_from_thad      5    1  0.300         -2.285\n",
      "10114      2962        b_from_tlep      5    1  0.039         -1.196\n",
      "10310      3019  Wdecay2_from_thad      2    4  0.142         -1.355\n",
      "10452      3059        b_from_tlep      5    1  0.119         -1.139\n",
      "11912      3493  Wdecay2_from_thad      3    2  0.271         -1.013\n",
      "12397      3630  Wdecay2_from_thad      3    2  0.107         -1.053\n",
      "...         ...                ...    ...  ...    ...            ...\n",
      "3345617  975804  Wdecay1_from_thad      1    2  0.280         -1.496\n",
      "3345632  975809        b_from_thad      5    1  0.143         -3.161\n",
      "3345946  975898        b_from_tlep      5    1  0.136         -1.054\n",
      "3346138  975955        b_from_tlep      5    0  0.322         -1.855\n",
      "3347759  976425        b_from_tlep      5    4  0.242         -2.662\n",
      "3347809  976441        b_from_tlep      5    3  0.100         -1.589\n",
      "3349158  976840  Wdecay2_from_thad      4    2  0.093         -1.099\n",
      "3349439  976919        b_from_thad      5    0  0.171         -1.754\n",
      "3349809  977024  Wdecay2_from_thad      1    0  0.195         -2.426\n",
      "3350552  977242  Wdecay1_from_thad      3    3  0.009         -1.044\n",
      "3352006  977670        b_from_tlep      5    0  0.284         -5.121\n",
      "3352764  977889        b_from_tlep      5    0  0.338         -1.605\n",
      "3353583  978127        b_from_tlep      5    0  0.165         -1.271\n",
      "3353697  978160  Wdecay1_from_thad      3    2  0.111         -1.104\n",
      "3354518  978400  Wdecay2_from_thad      4    3  0.066         -1.416\n",
      "3354683  978447  Wdecay2_from_thad      2    1  0.198         -1.868\n",
      "3355114  978576        b_from_tlep      5    0  0.334         -2.222\n",
      "3355402  978659        b_from_tlep      5    1  0.240         -3.527\n",
      "3355875  978796  Wdecay2_from_thad      2    0  0.221         -2.155\n",
      "3356667  979033        b_from_tlep      5    1  0.261         -1.351\n",
      "3356706  979045        b_from_tlep      5    0  0.178         -6.403\n",
      "3356897  979101  Wdecay2_from_thad      1    2  0.159         -1.119\n",
      "3357016  979134  Wdecay1_from_thad      3    2  0.025         -1.237\n",
      "3362656  980772        b_from_thad      5    0  0.280         -2.822\n",
      "3362906  980845  Wdecay2_from_thad      1    2  0.272         -1.285\n",
      "\n",
      "[5364 rows x 6 columns]\n"
     ]
    }
   ],
   "source": [
    "# dR < 0.4 dataframes\n",
    "print('For dR < 0.4 matching:')\n",
    "print('----------------------')\n",
    "print('All data:')\n",
    "df04 = pd.DataFrame({'Event':event_indices04, 'Parent': matched_pars04, 'Quark': best_quarks04, 'Jet':best_jets04, 'dR':dRs04.round(3), 'frac delta pt':frac_delta_pts04.round(3)})\n",
    "#df_grouped04 = df04.groupby(['Event'], as_index=True).agg({'Jet': list,'Parent': list,'dR': list,'frac delta pt': list})\n",
    "print(df04)\n",
    "print('Not great matches:')\n",
    "df04_bad = df04[df04['frac delta pt']<-1]\n",
    "print(df04_bad)\n",
    "\n",
    "# dR < 0.6 dataframes\n",
    "# print('For dR < 0.6 matching:')\n",
    "# print('----------------------')\n",
    "# print('All data:')\n",
    "# df06 = pd.DataFrame({'Event':event_indices06, 'Jet':best_jets06,'Parent': matched_pars06, 'dR':dRs06.round(3), 'frac delta pt':frac_delta_pts06.round(3)})\n",
    "# #df_grouped06 = df06.groupby(['Event'], as_index=True).agg({'Jet': list,'Parent': list,'dR': list,'frac delta pt': list})\n",
    "# print(df06)\n",
    "# print('Not great matches:')\n",
    "# df06_bad = df06[df06['frac delta pt']<-1]\n",
    "# print(df06_bad)\n"
   ]
  },
  {
   "cell_type": "code",
   "execution_count": 32,
   "metadata": {},
   "outputs": [
    {
     "name": "stdout",
     "output_type": "stream",
     "text": [
      "[[21, 5, 3, 5, 4, 4], [2, 5, 5, -1, 1], ... [2, 5, 5, 21], [21, 5, 2, 5, 1, 21]]\n",
      "[3, 2, 1, 3, 2, 1, 4, 2, 3, 1, 3, 4, 1, 4, ... 3, 4, 1, 3, 4, 2, 3, 2, 2, 4, 1, 1, 1]\n",
      "        Wdecay1_pdgid  Wdecay2_pdgid                     jet_truth  Wdecay1_match  Wdecay2_match\n",
      "0                   3             -4           [21, 5, 3, 5, 4, 4]           True           True\n",
      "1                   2             -1              [2, 5, 5, -1, 1]           True           True\n",
      "2                   1             -2              [5, 2, 5, 1, 21]           True           True\n",
      "3                   3             -4                  [5, 5, 3, 4]           True           True\n",
      "4                   2             -1                  [1, 5, 2, 5]           True           True\n",
      "5                   1             -2                  [2, 5, 5, 2]          False           True\n",
      "6                   4             -3         [5, 4, 21, 21, 3, 21]           True           True\n",
      "7                   2             -1  [1, 21, 5, 5, 21, 2, 21, 21]           True           True\n",
      "8                   3             -4              [5, 4, 5, 21, 3]           True           True\n",
      "9                   1             -2              [5, 5, 2, 21, 1]           True           True\n",
      "10                  3             -4                 [5, 21, 5, 3]           True          False\n",
      "11                  4             -3               [3, 5, 4, 3, 5]           True           True\n",
      "12                  1             -2                 [5, 5, 2, 21]          False           True\n",
      "13                  4             -3             [21, 21, 5, 5, 3]          False           True\n",
      "14                  1             -2              [5, 1, 21, 5, 2]           True           True\n",
      "15                  3             -4                 [21, 3, 5, 5]           True          False\n",
      "16                  1             -2              [5, 5, 2, 1, 21]           True           True\n",
      "17                  3             -4   [4, 5, 5, 21, 4, 21, 21, 3]           True           True\n",
      "18                  1             -2                  [1, 2, 5, 5]           True           True\n",
      "19                  2             -1             [21, 2, 5, 5, 21]           True          False\n",
      "20                  2             -1              [21, 1, 5, 5, 2]           True           True\n",
      "21                  1             -4      [5, 5, 1, 4, 21, 21, 21]           True           True\n",
      "22                  3             -2              [2, 2, 5, 21, 5]          False           True\n",
      "23                  1             -2           [2, 21, 5, 5, 2, 1]           True           True\n",
      "24                  3             -4              [5, 5, 4, 2, 21]          False           True\n",
      "...               ...            ...                           ...            ...            ...\n",
      "980985              1             -2               [5, 5, 1, 2, 2]           True           True\n",
      "980986              4             -3              [5, 5, 4, 21, 3]           True           True\n",
      "980987              3             -4                  [5, 4, 5, 3]           True           True\n",
      "980988              4             -3           [3, 4, 5, 3, 21, 5]           True           True\n",
      "980989              4             -3                 [5, 4, 5, 21]           True          False\n",
      "980990              4             -1           [1, 2, 5, 21, 4, 5]           True           True\n",
      "980991              2             -1                 [5, 5, -1, 2]           True          False\n",
      "980992              4             -3                  [5, 3, 5, 4]           True           True\n",
      "980993              4             -3                  [5, 3, 5, 4]           True           True\n",
      "980994              4             -1                  [4, 5, 5, 1]           True           True\n",
      "980995              3             -4                 [5, 5, 21, 4]          False           True\n",
      "980996              2             -1                 [2, 21, 5, 5]           True          False\n",
      "980997              3             -4                  [4, 5, 5, 5]          False           True\n",
      "980998              4             -3                  [5, 3, 5, 4]           True           True\n",
      "980999              1             -2         [2, 1, 5, 21, 21, 21]           True           True\n",
      "981000              3             -4                  [1, 3, 5, 5]           True          False\n",
      "981001              4             -3              [5, 2, 4, 5, -1]           True          False\n",
      "981002              2             -1                  [5, 2, 5, 1]           True           True\n",
      "981003              3             -4                 [5, 5, 21, 4]          False           True\n",
      "981004              2             -1              [1, 2, 5, 5, 21]           True           True\n",
      "981005              2             -1                 [21, 5, 5, 1]          False           True\n",
      "981006              4             -1              [2, 5, 5, 5, 21]          False          False\n",
      "981007              1             -2          [21, 5, 2, 1, 5, 21]           True           True\n",
      "981008              1             -2                 [2, 5, 5, 21]          False           True\n",
      "981009              1             -2          [21, 5, 2, 5, 1, 21]           True           True\n",
      "\n",
      "[981010 rows x 5 columns]\n"
     ]
    }
   ],
   "source": [
    "\n",
    "print(nom_tree['jet_truthPartonLabel'])\n",
    "print(nom_tree['MC_Wdecay1_from_thad_pdgId'])\n",
    "\n",
    "qdf = pd.DataFrame(np.array(nom_tree['MC_Wdecay1_from_thad_pdgId']).astype(int),columns=['Wdecay1_pdgid'])\n",
    "qdf['Wdecay2_pdgid'] = np.array(nom_tree['MC_Wdecay2_from_thad_pdgId']).astype(int)\n",
    "qdf['jet_truth'] = list(nom_tree['jet_truthPartonLabel'])\n",
    "qdf['Wdecay1_match'] = qdf.apply(lambda row: True if abs(row['Wdecay1_pdgid']) in row['jet_truth'] else False,axis=1)\n",
    "qdf['Wdecay2_match'] = qdf.apply(lambda row: True if abs(row['Wdecay2_pdgid']) in row['jet_truth'] else False,axis=1)\n",
    "\n",
    "\n",
    "print(qdf)"
   ]
  },
  {
   "cell_type": "code",
   "execution_count": 37,
   "metadata": {},
   "outputs": [
    {
     "name": "stdout",
     "output_type": "stream",
     "text": [
      "        Wdecay1_pdgid  Wdecay2_pdgid                 jet_truth  Wdecay1_match  Wdecay2_match  num\n",
      "5                   1             -2              [2, 5, 5, 2]          False           True    2\n",
      "22                  3             -2          [2, 2, 5, 21, 5]          False           True    2\n",
      "24                  3             -4          [5, 5, 4, 2, 21]          False           True    2\n",
      "26                  1             -2           [2, 5, 5, 2, 2]          False           True    3\n",
      "43                  3             -4              [5, 4, 5, 1]          False           True    2\n",
      "47                  1             -2      [4, 21, 5, 2, 21, 5]          False           True    2\n",
      "53                  4             -3              [5, 3, 3, 5]          False           True    2\n",
      "68                  4             -3       [2, 21, 5, 5, 3, 3]          False           True    3\n",
      "69                  4             -3          [4, 5, 5, 1, 21]           True          False    2\n",
      "77                  2             -1          [21, 1, 5, 1, 5]          False           True    2\n",
      "83                  4             -3              [5, 5, 4, 4]           True          False    2\n",
      "105                 3             -4          [1, 5, 21, 5, 4]          False           True    2\n",
      "130                 4             -3              [5, 3, 5, 3]          False           True    2\n",
      "148                 3             -4          [5, 5, 4, 21, 4]          False           True    2\n",
      "155                 3             -4      [5, 2, 21, 5, 4, 21]          False           True    2\n",
      "200                 1             -2           [5, 1, 5, 1, 5]           True          False    2\n",
      "212                 3             -4              [5, 5, 1, 4]          False           True    2\n",
      "214                 2             -1  [5, 21, 5, 4, 1, 21, 21]          False           True    2\n",
      "218                 3             -4              [2, 5, 3, 2]           True          False    3\n",
      "225                 1             -2             [5, 2, 4, 21]          False           True    2\n",
      "228                 3             -4          [5, 5, 1, 4, 21]          False           True    2\n",
      "230                 1             -2          [2, 5, 5, 4, 21]          False           True    2\n",
      "255                 4             -3              [5, 5, 2, 4]           True          False    2\n",
      "264                 4             -3       [4, 21, 5, 1, 5, 1]           True          False    3\n",
      "273                 1             -2              [2, 5, 5, 2]          False           True    2\n",
      "...               ...            ...                       ...            ...            ...  ...\n",
      "980499              3             -4          [5, 21, 5, 2, 4]          False           True    2\n",
      "980521              2             -1  [1, 21, 5, 1, 21, 21, 5]          False           True    2\n",
      "980526              2             -1              [5, 2, 5, 2]           True          False    2\n",
      "980566              2             -1      [2, 21, 5, 5, 21, 2]           True          False    2\n",
      "980582              2             -1       [5, 5, 2, 3, 4, 21]           True          False    3\n",
      "980607              1             -2              [1, 4, 5, 5]           True          False    2\n",
      "980664              3             -4              [4, 5, 4, 5]          False           True    2\n",
      "980671              2             -1          [2, 5, 5, 21, 4]           True          False    2\n",
      "980693              3             -4          [21, 3, 5, 5, 2]           True          False    2\n",
      "980694              3             -4      [21, 2, 5, 4, 5, 21]          False           True    2\n",
      "980697              1             -4              [5, 5, 2, 4]          False           True    2\n",
      "980723              3             -4              [1, 4, 5, 5]          False           True    2\n",
      "980731              3             -4              [5, 5, 4, 2]          False           True    2\n",
      "980742              3             -4          [21, 5, 5, 4, 4]          False           True    2\n",
      "980743              4             -3      [5, 3, 21, 21, 5, 2]          False           True    2\n",
      "980792              2             -1           [1, 1, 5, 5, 1]          False           True    3\n",
      "980826              3             -4          [21, 5, 5, 2, 2]          False          False    2\n",
      "980838              3             -4      [1, 5, 5, 3, 21, 21]           True          False    2\n",
      "980856              4             -3              [1, 3, 5, 5]          False           True    2\n",
      "980857              1             -2              [5, 5, 1, 4]           True          False    2\n",
      "980940              4             -3              [5, 4, 2, 5]           True          False    2\n",
      "980966              3             -4              [1, 5, 5, 3]           True          False    2\n",
      "980982              3             -4          [21, 4, 5, 1, 5]          False           True    2\n",
      "981000              3             -4              [1, 3, 5, 5]           True          False    2\n",
      "981001              4             -3          [5, 2, 4, 5, -1]           True          False    2\n",
      "\n",
      "[81810 rows x 6 columns]\n"
     ]
    },
    {
     "name": "stderr",
     "output_type": "stream",
     "text": [
      "/tmp/ipykernel_1476539/1670255397.py:6: SettingWithCopyWarning: \n",
      "A value is trying to be set on a copy of a slice from a DataFrame.\n",
      "Try using .loc[row_indexer,col_indexer] = value instead\n",
      "\n",
      "See the caveats in the documentation: https://pandas.pydata.org/pandas-docs/stable/user_guide/indexing.html#returning-a-view-versus-a-copy\n",
      "  bad_df['num'] = bad_df.apply(lambda row: sum(1 for i in np.array(row['jet_truth']).ravel() if i in range(1,5)),axis=1)\n"
     ]
    }
   ],
   "source": [
    "\n",
    "pd.options.display.max_rows = 50\n",
    "pd.options.display.min_rows = 50\n",
    "pd.options.display.width = 100\n",
    "bad_df = qdf.query('Wdecay1_match ==False or Wdecay2_match==False')\n",
    "\n",
    "bad_df['num'] = bad_df.apply(lambda row: sum(1 for i in np.array(row['jet_truth']).ravel() if i in range(1,5)),axis=1)\n",
    "print(bad_df[bad_df['num']>=2])"
   ]
  },
  {
   "cell_type": "code",
   "execution_count": 38,
   "metadata": {},
   "outputs": [
    {
     "name": "stdout",
     "output_type": "stream",
     "text": [
      "        Wdecay1_pdgid  Wdecay2_pdgid                  jet_truth  Wdecay1_match  Wdecay2_match  num\n",
      "5                   1             -2               [2, 5, 5, 2]          False           True    2\n",
      "10                  3             -4              [5, 21, 5, 3]           True          False    1\n",
      "12                  1             -2              [5, 5, 2, 21]          False           True    1\n",
      "13                  4             -3          [21, 21, 5, 5, 3]          False           True    1\n",
      "15                  3             -4              [21, 3, 5, 5]           True          False    1\n",
      "19                  2             -1          [21, 2, 5, 5, 21]           True          False    1\n",
      "22                  3             -2           [2, 2, 5, 21, 5]          False           True    2\n",
      "24                  3             -4           [5, 5, 4, 2, 21]          False           True    2\n",
      "26                  1             -2            [2, 5, 5, 2, 2]          False           True    3\n",
      "29                  2             -1              [5, 2, 5, 21]           True          False    1\n",
      "31                  3             -4          [21, 5, 3, 5, 21]           True          False    1\n",
      "32                  4             -3              [3, 5, 21, 5]          False           True    1\n",
      "35                  3             -4  [21, 21, 21, 21, 5, 4, 5]          False           True    1\n",
      "38                  1             -2              [5, 2, 5, 21]          False           True    1\n",
      "41                  3             -4       [3, 5, 5, 21, 21, 5]           True          False    1\n",
      "42                  3             -4  [5, 5, 21, 21, 21, 21, 3]           True          False    1\n",
      "43                  3             -4               [5, 4, 5, 1]          False           True    2\n",
      "44                  2             -1               [2, 5, 5, 5]           True          False    1\n",
      "47                  1             -2       [4, 21, 5, 2, 21, 5]          False           True    2\n",
      "50                  2             -1      [21, 5, 5, 1, 21, 21]          False           True    1\n",
      "53                  4             -3               [5, 3, 3, 5]          False           True    2\n",
      "55                  3             -4              [21, 3, 5, 5]           True          False    1\n",
      "61                  1             -4          [5, 5, 4, 21, 21]          False           True    1\n",
      "63                  3             -4          [5, 5, 4, 21, 21]          False           True    1\n",
      "66                  3             -4              [3, 5, 21, 5]           True          False    1\n",
      "...               ...            ...                        ...            ...            ...  ...\n",
      "980957              1             -2     [5, 21, -1, 21, -1, 5]          False          False    0\n",
      "980959              2             -1          [5, 5, 21, 2, 21]           True          False    1\n",
      "980960              3             -4          [5, 5, 21, 21, 4]          False           True    1\n",
      "980966              3             -4               [1, 5, 5, 3]           True          False    2\n",
      "980969              4             -3              [5, 5, 21, 3]          False           True    1\n",
      "980970              3             -4              [4, 5, 21, 5]          False           True    1\n",
      "980971              4             -3              [2, 5, 5, 21]          False          False    1\n",
      "980972              1             -4          [5, 5, 21, 21, 4]          False           True    1\n",
      "980973              1             -2          [5, 1, 21, 5, 21]           True          False    1\n",
      "980976              2             -1              [5, 21, 5, 1]          False           True    1\n",
      "980977              4             -3               [5, 4, 5, 5]           True          False    1\n",
      "980980              4             -3              [5, 5, 21, 5]          False          False    0\n",
      "980982              3             -4           [21, 4, 5, 1, 5]          False           True    2\n",
      "980983              2             -1          [2, 21, 5, 5, 21]           True          False    1\n",
      "980989              4             -3              [5, 4, 5, 21]           True          False    1\n",
      "980991              2             -1              [5, 5, -1, 2]           True          False    1\n",
      "980995              3             -4              [5, 5, 21, 4]          False           True    1\n",
      "980996              2             -1              [2, 21, 5, 5]           True          False    1\n",
      "980997              3             -4               [4, 5, 5, 5]          False           True    1\n",
      "981000              3             -4               [1, 3, 5, 5]           True          False    2\n",
      "981001              4             -3           [5, 2, 4, 5, -1]           True          False    2\n",
      "981003              3             -4              [5, 5, 21, 4]          False           True    1\n",
      "981005              2             -1              [21, 5, 5, 1]          False           True    1\n",
      "981006              4             -1           [2, 5, 5, 5, 21]          False          False    1\n",
      "981008              1             -2              [2, 5, 5, 21]          False           True    1\n",
      "\n",
      "[393348 rows x 6 columns]\n"
     ]
    }
   ],
   "source": [
    "print(bad_df)"
   ]
  },
  {
   "cell_type": "code",
   "execution_count": 28,
   "metadata": {},
   "outputs": [
    {
     "name": "stdout",
     "output_type": "stream",
     "text": [
      "       Event                                             Parent         Quark  \\\n",
      "0          0  [b_from_thad, b_from_tlep, Wdecay1_from_thad, ...  [5, 5, 3, 4]   \n",
      "1          1  [b_from_thad, b_from_tlep, Wdecay1_from_thad, ...  [5, 5, 3, 4]   \n",
      "2          2      [b_from_thad, b_from_tlep, Wdecay1_from_thad]     [5, 5, 2]   \n",
      "3          3  [b_from_thad, b_from_tlep, Wdecay1_from_thad, ...  [5, 5, 4, 3]   \n",
      "4          4      [b_from_thad, b_from_tlep, Wdecay1_from_thad]     [5, 5, 1]   \n",
      "...      ...                                                ...           ...   \n",
      "74629  74635  [b_from_thad, Wdecay1_from_thad, Wdecay2_from_...     [5, 1, 2]   \n",
      "74630  74636  [b_from_thad, b_from_tlep, Wdecay1_from_thad, ...  [5, 5, 1, 2]   \n",
      "74631  74637  [b_from_thad, b_from_tlep, Wdecay1_from_thad, ...  [5, 5, 1, 2]   \n",
      "74632  74638  [b_from_thad, b_from_tlep, Wdecay1_from_thad, ...  [5, 5, 3, 4]   \n",
      "74633  74639      [b_from_thad, b_from_tlep, Wdecay1_from_thad]     [5, 5, 3]   \n",
      "\n",
      "                Jet                            dR  \\\n",
      "0      [1, 4, 2, 3]  [0.022, 0.063, 0.259, 0.038]   \n",
      "1      [0, 1, 2, 3]  [0.005, 0.018, 0.101, 0.028]   \n",
      "2         [3, 2, 4]         [0.027, 0.012, 0.005]   \n",
      "3      [4, 1, 5, 3]  [0.399, 0.054, 0.019, 0.014]   \n",
      "4         [2, 1, 3]          [0.012, 0.01, 0.041]   \n",
      "...             ...                           ...   \n",
      "74629     [3, 1, 2]         [0.057, 0.207, 0.032]   \n",
      "74630  [1, 0, 2, 3]  [0.041, 0.012, 0.035, 0.195]   \n",
      "74631  [4, 3, 2, 0]  [0.072, 0.151, 0.092, 0.085]   \n",
      "74632  [1, 0, 2, 4]  [0.009, 0.008, 0.142, 0.315]   \n",
      "74633     [2, 1, 3]          [0.021, 0.07, 0.111]   \n",
      "\n",
      "                         frac delta pt  \n",
      "0        [0.241, 0.569, -0.226, 0.076]  \n",
      "1          [0.128, 0.149, 0.027, 0.02]  \n",
      "2               [0.133, -0.044, 0.127]  \n",
      "3         [0.184, 0.116, 0.028, 0.058]  \n",
      "4               [0.159, -0.261, 0.008]  \n",
      "...                                ...  \n",
      "74629           [0.211, -1.106, 0.043]  \n",
      "74630    [-0.066, -0.04, 0.076, 0.449]  \n",
      "74631  [-0.109, -0.156, 0.545, -0.193]  \n",
      "74632      [0.038, 0.117, 0.056, 0.44]  \n",
      "74633            [0.153, 0.177, 0.456]  \n",
      "\n",
      "[74634 rows x 6 columns]\n"
     ]
    }
   ],
   "source": [
    "#df_grouped04 = df04.groupby(['Event'], as_index=False).agg({'Jet': list,'Parent': list,'dR': list,'frac delta pt': list})\n",
    "#print(df_grouped04)\n",
    "\n",
    "df_grouped04 = df04.groupby(['Event'], as_index=False).agg({'Parent': list,'Quark': list,'Jet': list,'dR': list,'frac delta pt': list})\n",
    "print(df_grouped04)"
   ]
  },
  {
   "cell_type": "code",
   "execution_count": 38,
   "metadata": {},
   "outputs": [
    {
     "name": "stdout",
     "output_type": "stream",
     "text": [
      "       Event                                             Parent         Quark  \\\n",
      "0          0  [b_from_thad, b_from_tlep, Wdecay1_from_thad, ...  [5, 5, 3, 4]   \n",
      "2          2      [b_from_thad, b_from_tlep, Wdecay1_from_thad]     [5, 5, 2]   \n",
      "3          3  [b_from_thad, b_from_tlep, Wdecay1_from_thad, ...  [5, 5, 4, 3]   \n",
      "4          4      [b_from_thad, b_from_tlep, Wdecay1_from_thad]     [5, 5, 1]   \n",
      "5          5      [b_from_thad, b_from_tlep, Wdecay2_from_thad]     [5, 5, 2]   \n",
      "...      ...                                                ...           ...   \n",
      "74615  74621                         [b_from_thad, b_from_tlep]        [5, 5]   \n",
      "74617  74623  [b_from_thad, b_from_tlep, Wdecay1_from_thad, ...  [5, 5, 3, 4]   \n",
      "74622  74628                         [b_from_thad, b_from_tlep]        [5, 5]   \n",
      "74629  74635  [b_from_thad, Wdecay1_from_thad, Wdecay2_from_...     [5, 1, 2]   \n",
      "74633  74639      [b_from_thad, b_from_tlep, Wdecay1_from_thad]     [5, 5, 3]   \n",
      "\n",
      "                Jet                            dR  \\\n",
      "0      [1, 4, 2, 3]  [0.022, 0.063, 0.259, 0.038]   \n",
      "2         [3, 2, 4]         [0.027, 0.012, 0.005]   \n",
      "3      [4, 1, 5, 3]  [0.399, 0.054, 0.019, 0.014]   \n",
      "4         [2, 1, 3]          [0.012, 0.01, 0.041]   \n",
      "5         [4, 1, 3]          [0.06, 0.012, 0.022]   \n",
      "...             ...                           ...   \n",
      "74615        [2, 3]                [0.083, 0.058]   \n",
      "74617  [3, 1, 2, 4]  [0.019, 0.023, 0.189, 0.049]   \n",
      "74622        [2, 1]                [0.011, 0.012]   \n",
      "74629     [3, 1, 2]         [0.057, 0.207, 0.032]   \n",
      "74633     [2, 1, 3]          [0.021, 0.07, 0.111]   \n",
      "\n",
      "                       frac delta pt  Jet 0 Matched  \n",
      "0      [0.241, 0.569, -0.226, 0.076]          False  \n",
      "2             [0.133, -0.044, 0.127]          False  \n",
      "3       [0.184, 0.116, 0.028, 0.058]          False  \n",
      "4             [0.159, -0.261, 0.008]          False  \n",
      "5             [0.137, -0.003, 0.283]          False  \n",
      "...                              ...            ...  \n",
      "74615                [0.632, -0.044]          False  \n",
      "74617    [0.033, 0.081, 0.21, 0.478]          False  \n",
      "74622                [-0.187, 0.137]          False  \n",
      "74629         [0.211, -1.106, 0.043]          False  \n",
      "74633          [0.153, 0.177, 0.456]          False  \n",
      "\n",
      "[14850 rows x 7 columns]\n",
      "0        463043.218750\n",
      "2        122911.773438\n",
      "3        158069.421875\n",
      "4         94768.960938\n",
      "5         75580.953125\n",
      "             ...      \n",
      "74615     73412.335938\n",
      "74617    107733.414062\n",
      "74622    203672.390625\n",
      "74629    459654.562500\n",
      "74633     66659.031250\n",
      "Name: jet 0 pt, Length: 14850, dtype: float64\n"
     ]
    },
    {
     "name": "stderr",
     "output_type": "stream",
     "text": [
      "/tmp/ipykernel_1458593/307452428.py:5: SettingWithCopyWarning: \n",
      "A value is trying to be set on a copy of a slice from a DataFrame.\n",
      "Try using .loc[row_indexer,col_indexer] = value instead\n",
      "\n",
      "See the caveats in the documentation: https://pandas.pydata.org/pandas-docs/stable/user_guide/indexing.html#returning-a-view-versus-a-copy\n",
      "  df_notall['jet 0 pt'] = df_notall.apply(lambda row: nom_tree['jet_pt'][row['Event']][0],axis=1)\n"
     ]
    },
    {
     "data": {
      "image/png": "[encoded data removed]",
      "text/plain": [
       "<Figure size 432x288 with 1 Axes>"
      ]
     },
     "metadata": {
      "needs_background": "light"
     },
     "output_type": "display_data"
    },
    {
     "name": "stdout",
     "output_type": "stream",
     "text": [
      "0.1989709783744674\n"
     ]
    }
   ],
   "source": [
    "df_grouped04['Jet 0 Matched'] = df_grouped04.apply(lambda row : True if 0 in row['Jet'] else False, axis=1)\n",
    "df_notall = df_grouped04[df_grouped04['Jet 0 Matched']==False]\n",
    "print(df_notall)\n",
    "\n",
    "df_notall['jet 0 pt'] = df_notall.apply(lambda row: nom_tree['jet_pt'][row['Event']][0],axis=1)\n",
    "print(df_notall['jet 0 pt'])\n",
    "\n",
    "plt.hist(nom_tree['jet_pt'][:,0],bins=30,range=(0,1000000),histtype='step',density=True,label='All')\n",
    "plt.hist(df_notall['jet 0 pt'],bins=30,range=(0,1000000),histtype='step',density=True,label = 'Jet0 did not match')\n",
    "plt.xlabel('jet 0 pt')\n",
    "plt.legend()\n",
    "plt.show()\n",
    "\n",
    "print(len(df_notall)/len(df_grouped04))"
   ]
  },
  {
   "cell_type": "code",
   "execution_count": null,
   "metadata": {},
   "outputs": [],
   "source": []
  },
  {
   "cell_type": "code",
   "execution_count": null,
   "metadata": {},
   "outputs": [],
   "source": []
  },
  {
   "cell_type": "code",
   "execution_count": null,
   "metadata": {},
   "outputs": [],
   "source": [
    "\n",
    "\n",
    "# Calculate particle vectors\n",
    "b_from_t_vec = vector.array({\"pt\":parton_tree06['MC_b_from_t_afterFSR_pt'],\"eta\":parton_tree06['MC_b_from_t_afterFSR_eta'],\"phi\":parton_tree06['MC_b_from_t_afterFSR_phi'],\"E\":parton_tree06['MC_b_from_t_afterFSR_E']})\n",
    "b_from_tbar_vec = vector.array({\"pt\":parton_tree06['MC_b_from_tbar_afterFSR_pt'],\"eta\":parton_tree06['MC_b_from_tbar_afterFSR_eta'],\"phi\":parton_tree06['MC_b_from_tbar_afterFSR_phi'],\"E\":parton_tree06['MC_b_from_tbar_afterFSR_E']})\n",
    "Wdecay1_from_t_vec = vector.array({\"pt\":parton_tree06['MC_Wdecay1_from_t_afterFSR_pt'],\"eta\":parton_tree06['MC_Wdecay1_from_t_afterFSR_eta'],\"phi\":parton_tree06['MC_Wdecay1_from_t_afterFSR_phi'],\"E\":parton_tree06['MC_Wdecay1_from_t_afterFSR_E']})\n",
    "Wdecay2_from_t_vec = vector.array({\"pt\":parton_tree06['MC_Wdecay2_from_t_afterFSR_pt'],\"eta\":parton_tree06['MC_Wdecay2_from_t_afterFSR_y'],\"phi\":parton_tree06['MC_Wdecay2_from_t_afterFSR_phi'],\"E\":parton_tree06['MC_Wdecay2_from_t_afterFSR_E']})   # Approx eta with y for now, since eta empty\n",
    "Wdecay1_from_tbar_vec = vector.array({\"pt\":parton_tree06['MC_Wdecay1_from_tbar_afterFSR_pt'],\"eta\":parton_tree06['MC_Wdecay1_from_tbar_afterFSR_eta'],\"phi\":parton_tree06['MC_Wdecay1_from_tbar_afterFSR_phi'],\"E\":parton_tree06['MC_Wdecay1_from_tbar_afterFSR_E']})\n",
    "Wdecay2_from_tbar_vec = vector.array({\"pt\":parton_tree06['MC_Wdecay2_from_tbar_afterFSR_pt'],\"eta\":parton_tree06['MC_Wdecay2_from_tbar_afterFSR_eta'],\"phi\":parton_tree06['MC_Wdecay2_from_tbar_afterFSR_phi'],\"E\":parton_tree06['MC_Wdecay2_from_tbar_afterFSR_E']})\n",
    "\n",
    "# Define some helpful ranges\n",
    "had_range = list(range(1,9))+list(range(-8,0))                     # Quarks have pdgid 1 to 8 (negatives indicate antiparticles)\n",
    "lep_range = list(range(11,19))+list(range(-18,10))                 # Leptons have pdgid 11 to 18\n",
    "bos_range = list(range(21,26))+list(range(-25,20))+[9,37,-9,-37]   # Bosons have pdgid 21 to 25, and 9, and 37\n",
    "\n",
    "\n",
    "for i in df_notall['Event']:\n",
    "\n",
    "    print('-------------------------------')\n",
    "    print('            Event '+str(i)+'            ')\n",
    "    print('-------------------------------')\n",
    "\n",
    "\n",
    "\n",
    "     # Calculate the jet vectors for this event, as well as get the btags\n",
    "    jet_vectors = vector.array({\"pt\":reco_tree06['jet_pt'][i],\"eta\":reco_tree06['jet_eta'][i],\"phi\":reco_tree06['jet_phi'][i],\"E\":reco_tree06['jet_e'][i]})\n",
    "    jet_btags = np.array(reco_tree04['jet_btagged'][i])\n",
    "\n",
    "    particle_dict = {'b_from_t':{'dRs':jet_vectors.deltaR(b_from_t_vec[i]),'frac_delta_pts':((b_from_t_vec[i].pt - jet_vectors.pt)/b_from_t_vec[i].pt)},'b_from_tbar':{'dRs':jet_vectors.deltaR(b_from_tbar_vec[i]),'frac_delta_pts':((b_from_tbar_vec[i].pt - jet_vectors.pt)/b_from_tbar_vec[i].pt)}}\n",
    "    if parton_tree04['MC_Wdecay1_from_t_afterFSR_pdgid'][i] in had_range or parton_tree04['MC_Wdecay2_from_t_afterFSR_pdgid'][i] in had_range:\n",
    "        particle_dict['Wdecay1_from_t'] = {'dRs':jet_vectors.deltaR(Wdecay1_from_t_vec[i]),'frac_delta_pts':((Wdecay1_from_t_vec[i].pt - jet_vectors.pt)/Wdecay1_from_t_vec[i].pt)}\n",
    "        particle_dict['Wdecay2_from_t'] = {'dRs':jet_vectors.deltaR(Wdecay2_from_t_vec[i]),'frac_delta_pts':((Wdecay2_from_t_vec[i].pt - jet_vectors.pt)/Wdecay2_from_t_vec[i].pt)}\n",
    "    elif parton_tree04['MC_Wdecay1_from_tbar_afterFSR_pdgid'][i] in had_range or parton_tree04['MC_Wdecay2_from_tbar_afterFSR_pdgid'][i] in had_range:\n",
    "        particle_dict['Wdecay1_from_tbar'] = {'dRs':jet_vectors.deltaR(Wdecay1_from_tbar_vec[i]),'frac_delta_pts':((Wdecay1_from_tbar_vec[i].pt - jet_vectors.pt)/Wdecay1_from_tbar_vec[i].pt)}\n",
    "        particle_dict['Wdecay2_from_tbar'] = {'dRs':jet_vectors.deltaR(Wdecay2_from_tbar_vec[i]),'frac_delta_pts':((Wdecay2_from_tbar_vec[i].pt - jet_vectors.pt)/Wdecay2_from_tbar_vec[i].pt)}\n",
    "    else:\n",
    "        print('WARNING: none of the W decays in event %d seem to be jets! What?!' % i)\n",
    "        print('pdgids: %d, %d, %d, %d' % (parton_tree04['MC_Wdecay1_from_t_afterFSR_pdgid'][i] ,parton_tree04['MC_Wdecay2_from_t_afterFSR_pdgid'][i] ,parton_tree04['MC_Wdecay1_from_tbar_afterFSR_pdgid'][i] ,parton_tree04['MC_Wdecay2_from_tbar_afterFSR_pdgid'][i] ))\n",
    "\n",
    "    fig, axs = plt.subplots(2,2,figsize=(10,10))\n",
    "\n",
    "    ax1 = [0,0,1,1]\n",
    "    ax2 = [0,1,0,1]\n",
    "\n",
    "    for a,par in enumerate(particle_dict):\n",
    "\n",
    "        #if par not in df_notall[df_notall['Event']==i]['Parent'].to_list()[0]:\n",
    "\n",
    "        dR_points_btag = []\n",
    "        dR_points_nobtag = []\n",
    "        pt_points_btag = []\n",
    "        pt_points_nobtag = []\n",
    "\n",
    "        for j in range(len(particle_dict[par]['dRs'])):\n",
    "            if jet_btags[j]==1:\n",
    "                dR_points_btag.append(particle_dict[par]['dRs'][j])\n",
    "                pt_points_btag.append(particle_dict[par]['frac_delta_pts'][j])\n",
    "            elif jet_btags[j]==0:\n",
    "                dR_points_nobtag.append(particle_dict[par]['dRs'][j])\n",
    "                pt_points_nobtag.append(particle_dict[par]['frac_delta_pts'][j])\n",
    "\n",
    "        #plt.figure(par+' '+str(i))\n",
    "        axs[ax1[a],ax2[a]].set_title(par+' '+str(i))\n",
    "\n",
    "        rect1 = matplotlib.patches.Rectangle((0,-1), 0.6, 2, color='green',alpha=0.5,label='target region')\n",
    "        axs[ax1[a],ax2[a]].add_patch(rect1)  # gca = 'grab current axis\n",
    "\n",
    "        if par in df_notall[df_notall['Event']==i]['Parent'].to_list()[0]:\n",
    "            index = df_notall[df_notall['Event']==i]['Parent'].to_list()[0].index(par)\n",
    "            temp_df = df_notall[df_notall['Event']==i]\n",
    "            axs[ax1[a],ax2[a]].plot([temp_df['dR'].to_list()[0][index]],[temp_df['frac delta pt'].to_list()[0][index]],'y*',markersize=15,label='chosen')\n",
    "            del temp_df\n",
    "\n",
    "        axs[ax1[a],ax2[a]].plot([particle_dict[par]['dRs'][0]],[particle_dict[par]['frac_delta_pts'][0]],'c*',markersize=15,label='leading jet')\n",
    "        axs[ax1[a],ax2[a]].plot(dR_points_btag,pt_points_btag,'ro',label='btag')\n",
    "        axs[ax1[a],ax2[a]].plot(dR_points_nobtag,pt_points_nobtag,'bo',label='no btag')\n",
    "\n",
    "\n",
    "        axs[ax1[a],ax2[a]].legend()\n",
    "        axs[ax1[a],ax2[a]].set_xlabel('dR')\n",
    "        axs[ax1[a],ax2[a]].set_ylabel('frac delta pt')\n",
    "\n",
    "        print(par+' pt=',parton_tree04['MC_'+par+'_afterFSR_pt'][i])\n",
    "        print(par+' phi=',parton_tree04['MC_'+par+'_afterFSR_phi'][i])\n",
    "        print(par+' eta=',parton_tree04['MC_'+par+'_afterFSR_eta'][i])\n",
    "\n",
    "    print('Jet pts=',reco_tree04['jet_pt'][i])\n",
    "    print('Jet phis=',reco_tree04['jet_phi'][i])\n",
    "    print('Jet etas=',reco_tree04['jet_eta'][i])\n",
    "    print('Jet btags=',jet_btags)\n",
    "\n",
    "    #fig.show()\n",
    "\n",
    "    if i > 100: break\n",
    "        \n",
    "\n",
    "    "
   ]
  },
  {
   "cell_type": "code",
   "execution_count": null,
   "metadata": {},
   "outputs": [],
   "source": []
  },
  {
   "cell_type": "code",
   "execution_count": null,
   "metadata": {},
   "outputs": [],
   "source": []
  },
  {
   "cell_type": "code",
   "execution_count": null,
   "metadata": {},
   "outputs": [],
   "source": [
    "# Calculate particle vectors\n",
    "b_from_t_vec = vector.array({\"pt\":parton_tree04['MC_b_from_t_afterFSR_pt'],\"eta\":parton_tree04['MC_b_from_t_afterFSR_eta'],\"phi\":parton_tree04['MC_b_from_t_afterFSR_phi'],\"E\":parton_tree04['MC_b_from_t_afterFSR_E']})\n",
    "b_from_tbar_vec = vector.array({\"pt\":parton_tree04['MC_b_from_tbar_afterFSR_pt'],\"eta\":parton_tree04['MC_b_from_tbar_afterFSR_eta'],\"phi\":parton_tree04['MC_b_from_tbar_afterFSR_phi'],\"E\":parton_tree04['MC_b_from_tbar_afterFSR_E']})\n",
    "Wdecay1_from_t_vec = vector.array({\"pt\":parton_tree04['MC_Wdecay1_from_t_afterFSR_pt'],\"eta\":parton_tree04['MC_Wdecay1_from_t_afterFSR_eta'],\"phi\":parton_tree04['MC_Wdecay1_from_t_afterFSR_phi'],\"E\":parton_tree04['MC_Wdecay1_from_t_afterFSR_E']})\n",
    "Wdecay2_from_t_vec = vector.array({\"pt\":parton_tree04['MC_Wdecay2_from_t_afterFSR_pt'],\"eta\":parton_tree04['MC_Wdecay2_from_t_afterFSR_y'],\"phi\":parton_tree04['MC_Wdecay2_from_t_afterFSR_phi'],\"E\":parton_tree04['MC_Wdecay2_from_t_afterFSR_E']})   # Approx eta with y for now, since eta empty\n",
    "Wdecay1_from_tbar_vec = vector.array({\"pt\":parton_tree04['MC_Wdecay1_from_tbar_afterFSR_pt'],\"eta\":parton_tree04['MC_Wdecay1_from_tbar_afterFSR_eta'],\"phi\":parton_tree04['MC_Wdecay1_from_tbar_afterFSR_phi'],\"E\":parton_tree04['MC_Wdecay1_from_tbar_afterFSR_E']})\n",
    "Wdecay2_from_tbar_vec = vector.array({\"pt\":parton_tree04['MC_Wdecay2_from_tbar_afterFSR_pt'],\"eta\":parton_tree04['MC_Wdecay2_from_tbar_afterFSR_eta'],\"phi\":parton_tree04['MC_Wdecay2_from_tbar_afterFSR_phi'],\"E\":parton_tree04['MC_Wdecay2_from_tbar_afterFSR_E']})\n",
    "\n",
    "\n",
    "for i,event in enumerate(list(df04_bad['Event'])):\n",
    "\n",
    "    dR_points_btag = []\n",
    "    dR_points_nobtag = []\n",
    "    pt_points_btag = []\n",
    "    pt_points_nobtag = []\n",
    "\n",
    "    min_dR = 100000\n",
    "    and_the_pt = 0\n",
    "\n",
    "    plot = True\n",
    "\n",
    "\n",
    "    par = list(df04_bad['Parent'])[i]\n",
    "\n",
    "    if par=='b_from_t':\n",
    "        par_vec=b_from_t_vec[event]\n",
    "    elif par=='b_from_tbar':\n",
    "        par_vec=b_from_tbar_vec[event]\n",
    "    elif par=='Wdecay1_from_t':\n",
    "        continue\n",
    "        par_vec=Wdecay1_from_t_vec[event]\n",
    "    elif par=='Wdecay2_from_t':\n",
    "        continue\n",
    "        par_vec=Wdecay2_from_t_vec[event]\n",
    "    elif par=='Wdecay1_from_tbar':\n",
    "        continue\n",
    "        par_vec=Wdecay1_from_tbar_vec[event]\n",
    "    elif par=='Wdecay2_from_tbar':\n",
    "        continue\n",
    "        par_vec=Wdecay2_from_tbar_vec[event]\n",
    "\n",
    "\n",
    "    for j in range(int(reco_tree04['jet_n'][event])):\n",
    "        jet_vec = vector.obj(pt=reco_tree04['jet_pt'][event][j],eta=reco_tree04['jet_eta'][event][j],phi=reco_tree04['jet_phi'][event][j],E=reco_tree04['jet_e'][event][j])\n",
    "        this_dR = par_vec.deltaR(jet_vec)\n",
    "        this_pt = (par_vec.pt-jet_vec.pt)/par_vec.pt\n",
    "        \n",
    "        if reco_tree04['jet_btagged'][event][j]==1:\n",
    "            dR_points_btag.append(this_dR)\n",
    "            pt_points_btag.append(this_pt)\n",
    "        else:\n",
    "            dR_points_nobtag.append(this_dR)\n",
    "            pt_points_nobtag.append(this_pt)\n",
    "\n",
    "        if this_dR < 0.4 and this_pt > -1:\n",
    "            plot = True\n",
    "\n",
    "\n",
    "    if plot==True:\n",
    "\n",
    "\n",
    "        plt.figure(str(event))\n",
    "        plt.title(str(event)+' '+par)\n",
    "\n",
    "        rect1 = matplotlib.patches.Rectangle((0,-1), 0.4, 2, color='green',alpha=0.5,label='target region')\n",
    "        plt.gca().add_patch(rect1)  # gca = 'grab current axis\n",
    "        plt.plot([list(df04_bad['dR'])[i]],[list(df04_bad['frac delta pt'])[i]],'y*',markersize=15,label='chosen')\n",
    "        plt.plot(dR_points_btag,pt_points_btag,'ro',label='btag')\n",
    "        plt.plot(dR_points_nobtag,pt_points_nobtag,'bo',label='no btag')\n",
    "\n",
    "        plt.legend()\n",
    "        plt.xlabel('dR')\n",
    "        plt.ylabel('frac delta pt')\n",
    "        plt.show()"
   ]
  },
  {
   "cell_type": "code",
   "execution_count": null,
   "metadata": {},
   "outputs": [],
   "source": []
  }
 ],
 "metadata": {
  "kernelspec": {
   "display_name": "myVenv",
   "language": "python",
   "name": "python3"
  },
  "language_info": {
   "codemirror_mode": {
    "name": "ipython",
    "version": 3
   },
   "file_extension": ".py",
   "mimetype": "text/x-python",
   "name": "python",
   "nbconvert_exporter": "python",
   "pygments_lexer": "ipython3",
   "version": "3.8.10"
  },
  "orig_nbformat": 4,
  "vscode": {
   "interpreter": {
    "hash": "25b776939c17d4eaae34b6e1b95cd666dbc35d210c88e39379dc9abf6e272194"
   }
  }
 },
 "nbformat": 4,
 "nbformat_minor": 2
}
