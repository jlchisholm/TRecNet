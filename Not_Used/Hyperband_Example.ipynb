{
 "cells": [
  {
   "cell_type": "code",
   "execution_count": 2,
   "metadata": {},
   "outputs": [],
   "source": [
    "import numpy as np\n",
    "import math"
   ]
  },
  {
   "cell_type": "code",
   "execution_count": 3,
   "metadata": {},
   "outputs": [
    {
     "name": "stdout",
     "output_type": "stream",
     "text": [
      "s_max:  4.0\n",
      "B:  405.0\n"
     ]
    }
   ],
   "source": [
    "R = 81\n",
    "eta = 3\n",
    "s_max = np.floor(math.log(R,eta))\n",
    "B = (s_max+1)*R\n",
    "print(\"s_max: \", s_max)\n",
    "print(\"B: \", B)"
   ]
  },
  {
   "cell_type": "code",
   "execution_count": 9,
   "metadata": {},
   "outputs": [
    {
     "name": "stdout",
     "output_type": "stream",
     "text": [
      "--------------------\n",
      "s:  4.0\n",
      "n:  81.0\n",
      "r:  1.0\n",
      "         ----------\n",
      "         i:  0\n",
      "         ni:  81.0\n",
      "         ri:  1.0\n",
      "         ----------\n",
      "         i:  1\n",
      "         ni:  27.0\n",
      "         ri:  3.0\n",
      "         ----------\n",
      "         i:  2\n",
      "         ni:  9.0\n",
      "         ri:  9.0\n",
      "         ----------\n",
      "         i:  3\n",
      "         ni:  3.0\n",
      "         ri:  27.0\n",
      "         ----------\n",
      "         i:  4\n",
      "         ni:  1.0\n",
      "         ri:  81.0\n",
      "--------------------\n",
      "s:  3.0\n",
      "n:  34.0\n",
      "r:  3.0\n",
      "         ----------\n",
      "         i:  0\n",
      "         ni:  34.0\n",
      "         ri:  3.0\n",
      "         ----------\n",
      "         i:  1\n",
      "         ni:  11.0\n",
      "         ri:  9.0\n",
      "         ----------\n",
      "         i:  2\n",
      "         ni:  3.0\n",
      "         ri:  27.0\n",
      "         ----------\n",
      "         i:  3\n",
      "         ni:  1.0\n",
      "         ri:  81.0\n",
      "--------------------\n",
      "s:  2.0\n",
      "n:  15.0\n",
      "r:  9.0\n",
      "         ----------\n",
      "         i:  0\n",
      "         ni:  15.0\n",
      "         ri:  9.0\n",
      "         ----------\n",
      "         i:  1\n",
      "         ni:  5.0\n",
      "         ri:  27.0\n",
      "         ----------\n",
      "         i:  2\n",
      "         ni:  1.0\n",
      "         ri:  81.0\n",
      "--------------------\n",
      "s:  1.0\n",
      "n:  8.0\n",
      "r:  27.0\n",
      "         ----------\n",
      "         i:  0\n",
      "         ni:  8.0\n",
      "         ri:  27.0\n",
      "         ----------\n",
      "         i:  1\n",
      "         ni:  2.0\n",
      "         ri:  81.0\n",
      "--------------------\n",
      "s:  0.0\n",
      "n:  5.0\n",
      "r:  81.0\n",
      "         ----------\n",
      "         i:  0\n",
      "         ni:  5.0\n",
      "         ri:  81.0\n"
     ]
    }
   ],
   "source": [
    "s = s_max\n",
    "while s >= 0:\n",
    "    print('--------------------')\n",
    "    print(\"s: \", s)\n",
    "    n = np.ceil((B*eta**s)/(R*(s+1)))\n",
    "    r = R*eta**(-s)\n",
    "    print(\"n: \", n)\n",
    "    print(\"r: \", r)\n",
    "    \n",
    "    for i in range(int(s)+1):\n",
    "        print(\"         ----------\")\n",
    "        print(\"         i: \", i)\n",
    "        \n",
    "        ni = np.floor(n*eta**(-i))\n",
    "        ri = r*eta**i\n",
    "        print(\"         ni: \", ni)\n",
    "        print(\"         ri: \", ri)\n",
    "    \n",
    "    s -= 1"
   ]
  },
  {
   "cell_type": "code",
   "execution_count": null,
   "metadata": {},
   "outputs": [],
   "source": []
  }
 ],
 "metadata": {
  "kernelspec": {
   "display_name": "myVenv",
   "language": "python",
   "name": "python3"
  },
  "language_info": {
   "codemirror_mode": {
    "name": "ipython",
    "version": 3
   },
   "file_extension": ".py",
   "mimetype": "text/x-python",
   "name": "python",
   "nbconvert_exporter": "python",
   "pygments_lexer": "ipython3",
   "version": "3.8.10"
  },
  "orig_nbformat": 4
 },
 "nbformat": 4,
 "nbformat_minor": 2
}
